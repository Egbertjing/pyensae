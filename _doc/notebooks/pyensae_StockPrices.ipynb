{
  "cells": [
    {
      "cell_type": "markdown",
      "metadata": {},
      "source": [
        "# Manipulation de s\u00e9ries financi\u00e8res avec la classe StockPrices\n",
        "\n",
        "La classe [StockPrices](http://www.xavierdupre.fr/app/pyensae/helpsphinx/notebooks/pyensae%20StockPrices.html?highlight=stockprices) facilite la r\u00e9cup\u00e9ration de donn\u00e9es financi\u00e8res via diff\u00e9rents sites. Le site [Yahoo Finance](http://finance.yahoo.com/) requiet maintenant un cookie (depuis Mai 2017) et il est pr\u00e9f\u00e9rable de choisir [Google](https://www.google.com/finance?q=apple&ei=bPghWZnLDoKVULfBk-gC) ou [Quandl](https://www.quandl.com/tools/python). Google ne fonctionne que les march\u00e9s am\u00e9ricains, [Quandl](https://www.quandl.com/tools/python) a des historiques plus courts."
      ]
    },
    {
      "cell_type": "code",
      "execution_count": 1,
      "metadata": {},
      "outputs": [
        {
          "data": {
            "text/html": [
              "<div id=\"my_id_menu_nb\">run previous cell, wait for 2 seconds</div>\n",
              "<script>\n",
              "function repeat_indent_string(n){\n",
              "    var a = \"\" ;\n",
              "    for ( ; n > 0 ; --n)\n",
              "        a += \"    \";\n",
              "    return a;\n",
              "}\n",
              "var update_menu_string = function(begin, lfirst, llast, sformat, send, keep_item, begin_format, end_format) {\n",
              "    var anchors = document.getElementsByClassName(\"section\");\n",
              "    if (anchors.length == 0) {\n",
              "        anchors = document.getElementsByClassName(\"text_cell_render rendered_html\");\n",
              "    }\n",
              "    var i,t;\n",
              "    var text_menu = begin;\n",
              "    var text_memo = \"<pre>\\nlength:\" + anchors.length + \"\\n\";\n",
              "    var ind = \"\";\n",
              "    var memo_level = 1;\n",
              "    var href;\n",
              "    var tags = [];\n",
              "    var main_item = 0;\n",
              "    var format_open = 0;\n",
              "    for (i = 0; i <= llast; i++)\n",
              "        tags.push(\"h\" + i);\n",
              "\n",
              "    for (i = 0; i < anchors.length; i++) {\n",
              "        text_memo += \"**\" + anchors[i].id + \"--\\n\";\n",
              "\n",
              "        var child = null;\n",
              "        for(t = 0; t < tags.length; t++) {\n",
              "            var r = anchors[i].getElementsByTagName(tags[t]);\n",
              "            if (r.length > 0) {\n",
              "child = r[0];\n",
              "break;\n",
              "            }\n",
              "        }\n",
              "        if (child == null) {\n",
              "            text_memo += \"null\\n\";\n",
              "            continue;\n",
              "        }\n",
              "        if (anchors[i].hasAttribute(\"id\")) {\n",
              "            // when converted in RST\n",
              "            href = anchors[i].id;\n",
              "            text_memo += \"#1-\" + href;\n",
              "            // passer \u00e0 child suivant (le chercher)\n",
              "        }\n",
              "        else if (child.hasAttribute(\"id\")) {\n",
              "            // in a notebook\n",
              "            href = child.id;\n",
              "            text_memo += \"#2-\" + href;\n",
              "        }\n",
              "        else {\n",
              "            text_memo += \"#3-\" + \"*\" + \"\\n\";\n",
              "            continue;\n",
              "        }\n",
              "        var title = child.textContent;\n",
              "        var level = parseInt(child.tagName.substring(1,2));\n",
              "\n",
              "        text_memo += \"--\" + level + \"?\" + lfirst + \"--\" + title + \"\\n\";\n",
              "\n",
              "        if ((level < lfirst) || (level > llast)) {\n",
              "            continue ;\n",
              "        }\n",
              "        if (title.endsWith('\u00b6')) {\n",
              "            title = title.substring(0,title.length-1).replace(\"<\", \"&lt;\")\n",
              "         .replace(\">\", \"&gt;\").replace(\"&\", \"&amp;\");\n",
              "        }\n",
              "        if (title.length == 0) {\n",
              "            continue;\n",
              "        }\n",
              "\n",
              "        while (level < memo_level) {\n",
              "            text_menu += end_format + \"</ul>\\n\";\n",
              "            format_open -= 1;\n",
              "            memo_level -= 1;\n",
              "        }\n",
              "        if (level == lfirst) {\n",
              "            main_item += 1;\n",
              "        }\n",
              "        if (keep_item != -1 && main_item != keep_item + 1) {\n",
              "            // alert(main_item + \" - \" + level + \" - \" + keep_item);\n",
              "            continue;\n",
              "        }\n",
              "        while (level > memo_level) {\n",
              "            text_menu += \"<ul>\\n\";\n",
              "            memo_level += 1;\n",
              "        }\n",
              "        text_menu += repeat_indent_string(level-2);\n",
              "        text_menu += begin_format + sformat.replace(\"__HREF__\", href).replace(\"__TITLE__\", title);\n",
              "        format_open += 1;\n",
              "    }\n",
              "    while (1 < memo_level) {\n",
              "        text_menu += end_format + \"</ul>\\n\";\n",
              "        memo_level -= 1;\n",
              "        format_open -= 1;\n",
              "    }\n",
              "    text_menu += send;\n",
              "    //text_menu += \"\\n\" + text_memo;\n",
              "\n",
              "    while (format_open > 0) {\n",
              "        text_menu += end_format;\n",
              "        format_open -= 1;\n",
              "    }\n",
              "    return text_menu;\n",
              "};\n",
              "var update_menu = function() {\n",
              "    var sbegin = \"\";\n",
              "    var sformat = '<a href=\"#__HREF__\">__TITLE__</a>';\n",
              "    var send = \"\";\n",
              "    var begin_format = '<li>';\n",
              "    var end_format = '</li>';\n",
              "    var keep_item = -1;\n",
              "    var text_menu = update_menu_string(sbegin, 2, 4, sformat, send, keep_item,\n",
              "       begin_format, end_format);\n",
              "    var menu = document.getElementById(\"my_id_menu_nb\");\n",
              "    menu.innerHTML=text_menu;\n",
              "};\n",
              "window.setTimeout(update_menu,2000);\n",
              "            </script>"
            ],
            "text/plain": [
              "<IPython.core.display.HTML object>"
            ]
          },
          "execution_count": 2,
          "metadata": {},
          "output_type": "execute_result"
        }
      ],
      "source": [
        "import pyensae\n",
        "from jyquickhelper import add_notebook_menu\n",
        "add_notebook_menu()"
      ]
    },
    {
      "cell_type": "code",
      "execution_count": 3,
      "metadata": {},
      "outputs": [
        {
          "name": "stdout",
          "output_type": "stream",
          "text": [
            "Populating the interactive namespace from numpy and matplotlib\n"
          ]
        }
      ],
      "source": [
        "%pylab inline\n",
        "import matplotlib.pyplot as plt\n",
        "plt.style.use('ggplot')"
      ]
    },
    {
      "cell_type": "markdown",
      "metadata": {},
      "source": [
        "### Initialisation"
      ]
    },
    {
      "cell_type": "code",
      "execution_count": 4,
      "metadata": {
        "collapsed": true
      },
      "outputs": [],
      "source": [
        "import pyensae\n",
        "import os\n",
        "from pyensae.finance import StockPrices\n",
        "cache = os.path.abspath(\"cache\")\n",
        "if not os.path.exists(cache) : os.mkdir(cache)"
      ]
    },
    {
      "cell_type": "markdown",
      "metadata": {},
      "source": [
        "### Cr\u00e9er un objet StockPrices"
      ]
    },
    {
      "cell_type": "markdown",
      "metadata": {},
      "source": [
        "Le plus est d'utiliser le tick de la s\u00e9rie financi\u00e8re utilis\u00e9 par le site <a href=\"https://fr.finance.yahoo.com/\">Yahoo Finance</a>."
      ]
    },
    {
      "cell_type": "code",
      "execution_count": 5,
      "metadata": {},
      "outputs": [
        {
          "data": {
            "text/html": [
              "<div>\n",
              "<style>\n",
              "    .dataframe thead tr:only-child th {\n",
              "        text-align: right;\n",
              "    }\n",
              "\n",
              "    .dataframe thead th {\n",
              "        text-align: left;\n",
              "    }\n",
              "\n",
              "    .dataframe tbody tr th {\n",
              "        vertical-align: top;\n",
              "    }\n",
              "</style>\n",
              "<table border=\"1\" class=\"dataframe\">\n",
              "  <thead>\n",
              "    <tr style=\"text-align: right;\">\n",
              "      <th></th>\n",
              "      <th>Date</th>\n",
              "      <th>Open</th>\n",
              "      <th>High</th>\n",
              "      <th>Low</th>\n",
              "      <th>Close</th>\n",
              "      <th>Volume</th>\n",
              "    </tr>\n",
              "    <tr>\n",
              "      <th>Date</th>\n",
              "      <th></th>\n",
              "      <th></th>\n",
              "      <th></th>\n",
              "      <th></th>\n",
              "      <th></th>\n",
              "      <th></th>\n",
              "    </tr>\n",
              "  </thead>\n",
              "  <tbody>\n",
              "    <tr>\n",
              "      <th>2001-10-24</th>\n",
              "      <td>2001-10-24</td>\n",
              "      <td>30.25</td>\n",
              "      <td>30.81</td>\n",
              "      <td>29.81</td>\n",
              "      <td>30.66</td>\n",
              "      <td>76795400</td>\n",
              "    </tr>\n",
              "    <tr>\n",
              "      <th>2001-10-25</th>\n",
              "      <td>2001-10-25</td>\n",
              "      <td>30.31</td>\n",
              "      <td>31.30</td>\n",
              "      <td>29.78</td>\n",
              "      <td>31.28</td>\n",
              "      <td>73505200</td>\n",
              "    </tr>\n",
              "    <tr>\n",
              "      <th>2001-10-26</th>\n",
              "      <td>2001-10-26</td>\n",
              "      <td>31.16</td>\n",
              "      <td>31.82</td>\n",
              "      <td>31.04</td>\n",
              "      <td>31.10</td>\n",
              "      <td>61501800</td>\n",
              "    </tr>\n",
              "    <tr>\n",
              "      <th>2001-10-29</th>\n",
              "      <td>2001-10-29</td>\n",
              "      <td>31.05</td>\n",
              "      <td>31.10</td>\n",
              "      <td>29.77</td>\n",
              "      <td>29.82</td>\n",
              "      <td>55118000</td>\n",
              "    </tr>\n",
              "    <tr>\n",
              "      <th>2001-10-30</th>\n",
              "      <td>2001-10-30</td>\n",
              "      <td>29.46</td>\n",
              "      <td>29.77</td>\n",
              "      <td>29.10</td>\n",
              "      <td>29.44</td>\n",
              "      <td>55306200</td>\n",
              "    </tr>\n",
              "  </tbody>\n",
              "</table>\n",
              "</div>"
            ],
            "text/plain": [
              "                  Date   Open   High    Low  Close    Volume\n",
              "Date                                                        \n",
              "2001-10-24  2001-10-24  30.25  30.81  29.81  30.66  76795400\n",
              "2001-10-25  2001-10-25  30.31  31.30  29.78  31.28  73505200\n",
              "2001-10-26  2001-10-26  31.16  31.82  31.04  31.10  61501800\n",
              "2001-10-29  2001-10-29  31.05  31.10  29.77  29.82  55118000\n",
              "2001-10-30  2001-10-30  29.46  29.77  29.10  29.44  55306200"
            ]
          },
          "execution_count": 6,
          "metadata": {},
          "output_type": "execute_result"
        }
      ],
      "source": [
        "stock = StockPrices(\"NASDAQ:MSFT\", folder=cache)\n",
        "stock.head()"
      ]
    },
    {
      "cell_type": "code",
      "execution_count": 7,
      "metadata": {},
      "outputs": [
        {
          "data": {
            "text/html": [
              "<div>\n",
              "<style>\n",
              "    .dataframe thead tr:only-child th {\n",
              "        text-align: right;\n",
              "    }\n",
              "\n",
              "    .dataframe thead th {\n",
              "        text-align: left;\n",
              "    }\n",
              "\n",
              "    .dataframe tbody tr th {\n",
              "        vertical-align: top;\n",
              "    }\n",
              "</style>\n",
              "<table border=\"1\" class=\"dataframe\">\n",
              "  <thead>\n",
              "    <tr style=\"text-align: right;\">\n",
              "      <th></th>\n",
              "      <th>Date</th>\n",
              "      <th>Open</th>\n",
              "      <th>High</th>\n",
              "      <th>Low</th>\n",
              "      <th>Close</th>\n",
              "      <th>Volume</th>\n",
              "    </tr>\n",
              "    <tr>\n",
              "      <th>Date</th>\n",
              "      <th></th>\n",
              "      <th></th>\n",
              "      <th></th>\n",
              "      <th></th>\n",
              "      <th></th>\n",
              "      <th></th>\n",
              "    </tr>\n",
              "  </thead>\n",
              "  <tbody>\n",
              "    <tr>\n",
              "      <th>2017-09-08</th>\n",
              "      <td>2017-09-08</td>\n",
              "      <td>74.33</td>\n",
              "      <td>74.44</td>\n",
              "      <td>73.84</td>\n",
              "      <td>73.98</td>\n",
              "      <td>14703816</td>\n",
              "    </tr>\n",
              "    <tr>\n",
              "      <th>2017-09-11</th>\n",
              "      <td>2017-09-11</td>\n",
              "      <td>74.31</td>\n",
              "      <td>74.94</td>\n",
              "      <td>74.31</td>\n",
              "      <td>74.76</td>\n",
              "      <td>17910383</td>\n",
              "    </tr>\n",
              "    <tr>\n",
              "      <th>2017-09-12</th>\n",
              "      <td>2017-09-12</td>\n",
              "      <td>74.76</td>\n",
              "      <td>75.24</td>\n",
              "      <td>74.37</td>\n",
              "      <td>74.68</td>\n",
              "      <td>14394850</td>\n",
              "    </tr>\n",
              "    <tr>\n",
              "      <th>2017-09-13</th>\n",
              "      <td>2017-09-13</td>\n",
              "      <td>74.93</td>\n",
              "      <td>75.23</td>\n",
              "      <td>74.55</td>\n",
              "      <td>75.21</td>\n",
              "      <td>13380802</td>\n",
              "    </tr>\n",
              "    <tr>\n",
              "      <th>2017-09-14</th>\n",
              "      <td>2017-09-14</td>\n",
              "      <td>75.00</td>\n",
              "      <td>75.49</td>\n",
              "      <td>74.52</td>\n",
              "      <td>74.77</td>\n",
              "      <td>15733914</td>\n",
              "    </tr>\n",
              "  </tbody>\n",
              "</table>\n",
              "</div>"
            ],
            "text/plain": [
              "                  Date   Open   High    Low  Close    Volume\n",
              "Date                                                        \n",
              "2017-09-08  2017-09-08  74.33  74.44  73.84  73.98  14703816\n",
              "2017-09-11  2017-09-11  74.31  74.94  74.31  74.76  17910383\n",
              "2017-09-12  2017-09-12  74.76  75.24  74.37  74.68  14394850\n",
              "2017-09-13  2017-09-13  74.93  75.23  74.55  75.21  13380802\n",
              "2017-09-14  2017-09-14  75.00  75.49  74.52  74.77  15733914"
            ]
          },
          "execution_count": 8,
          "metadata": {},
          "output_type": "execute_result"
        }
      ],
      "source": [
        "stock.tail()"
      ]
    },
    {
      "cell_type": "markdown",
      "metadata": {},
      "source": [
        "La classe <tt>StockPrices</tt> contient un objet <a href=\"http://pandas.pydata.org/pandas-docs/version/0.13.1/generated/pandas.DataFrame.html\">pandas.DataFrame</a> auquel on acc\u00e8de en \u00e9crivant <tt>stock.dataframe</tt> ou <tt>stock.df</tt> :"
      ]
    },
    {
      "cell_type": "code",
      "execution_count": 9,
      "metadata": {},
      "outputs": [
        {
          "data": {
            "text/plain": [
              "Index(['Date', 'Open', 'High', 'Low', 'Close', 'Volume'], dtype='object')"
            ]
          },
          "execution_count": 10,
          "metadata": {},
          "output_type": "execute_result"
        }
      ],
      "source": [
        "stock.dataframe.columns"
      ]
    },
    {
      "cell_type": "markdown",
      "metadata": {},
      "source": [
        "De la m\u00eame mani\u00e8re, on peut cr\u00e9er un objet <tt>StockPrices</tt> \u00e0 partir d'un DataFrame :"
      ]
    },
    {
      "cell_type": "code",
      "execution_count": 11,
      "metadata": {},
      "outputs": [
        {
          "data": {
            "text/html": [
              "<div>\n",
              "<style>\n",
              "    .dataframe thead tr:only-child th {\n",
              "        text-align: right;\n",
              "    }\n",
              "\n",
              "    .dataframe thead th {\n",
              "        text-align: left;\n",
              "    }\n",
              "\n",
              "    .dataframe tbody tr th {\n",
              "        vertical-align: top;\n",
              "    }\n",
              "</style>\n",
              "<table border=\"1\" class=\"dataframe\">\n",
              "  <thead>\n",
              "    <tr style=\"text-align: right;\">\n",
              "      <th></th>\n",
              "      <th>Close</th>\n",
              "      <th>Date</th>\n",
              "    </tr>\n",
              "    <tr>\n",
              "      <th>Date</th>\n",
              "      <th></th>\n",
              "      <th></th>\n",
              "    </tr>\n",
              "  </thead>\n",
              "  <tbody>\n",
              "    <tr>\n",
              "      <th>2014-04-01</th>\n",
              "      <td>105.6</td>\n",
              "      <td>2014-04-01</td>\n",
              "    </tr>\n",
              "    <tr>\n",
              "      <th>2014-04-02</th>\n",
              "      <td>104.6</td>\n",
              "      <td>2014-04-02</td>\n",
              "    </tr>\n",
              "    <tr>\n",
              "      <th>2014-04-03</th>\n",
              "      <td>105.8</td>\n",
              "      <td>2014-04-03</td>\n",
              "    </tr>\n",
              "  </tbody>\n",
              "</table>\n",
              "</div>"
            ],
            "text/plain": [
              "            Close        Date\n",
              "Date                         \n",
              "2014-04-01  105.6  2014-04-01\n",
              "2014-04-02  104.6  2014-04-02\n",
              "2014-04-03  105.8  2014-04-03"
            ]
          },
          "execution_count": 12,
          "metadata": {},
          "output_type": "execute_result"
        }
      ],
      "source": [
        "import pandas\n",
        "data = [{\"Date\":\"2014-04-01\", \"Close\":105.6}, {\"Date\":\"2014-04-02\", \"Close\":104.6}, \n",
        "        {\"Date\":\"2014-04-03\", \"Close\":105.8}, ]\n",
        "df = pandas.DataFrame(data)\n",
        "stock = StockPrices(\"donnees\",df)\n",
        "stock.head()"
      ]
    },
    {
      "cell_type": "markdown",
      "metadata": {},
      "source": [
        "### Quelques graphes"
      ]
    },
    {
      "cell_type": "markdown",
      "metadata": {},
      "source": [
        "Premier dessin, on t\u00e9l\u00e9charge les donn\u00e9es de BNP puis on dessine le cours de l'action."
      ]
    },
    {
      "cell_type": "code",
      "execution_count": 13,
      "metadata": {},
      "outputs": [
        {
          "data": {
            "image/png": "[encoded data removed]",
            "text/plain": [
              "<matplotlib.figure.Figure at 0x28752a4ce48>"
            ]
          },
          "metadata": {},
          "output_type": "display_data"
        }
      ],
      "source": [
        "import datetime\n",
        "stock = StockPrices(\"NASDAQ:MSFT\", folder=cache)\n",
        "ax = StockPrices.draw(stock, figsize=(12,6))"
      ]
    },
    {
      "cell_type": "code",
      "execution_count": 14,
      "metadata": {},
      "outputs": [
        {
          "data": {
            "text/plain": [
              "<matplotlib.axes._subplots.AxesSubplot at 0x287543d0ef0>"
            ]
          },
          "execution_count": 15,
          "metadata": {},
          "output_type": "execute_result"
        },
        {
          "data": {
            "image/png": "[encoded data removed]",
            "text/plain": [
              "<matplotlib.figure.Figure at 0x28752a013c8>"
            ]
          },
          "metadata": {},
          "output_type": "display_data"
        }
      ],
      "source": [
        "stock = StockPrices(\"NASDAQ:MSFT\", folder=cache)\n",
        "StockPrices.draw(stock, figsize=(12,6))"
      ]
    },
    {
      "cell_type": "markdown",
      "metadata": {},
      "source": [
        "La m\u00eame chose se produit sur une autre s\u00e9rie financi\u00e8re mais pas \u00e0 la m\u00eame date. On trace maintenant la s\u00e9rie *Open* (*Adj Close* d\u00e9fini\n",
        "sur cette page [View and download historical price, dividend, or split data](https://help.yahoo.com/kb/finance/historical-prices-sln2311.html?impressions=true) n'est disponible qu'avec Yahoo)."
      ]
    },
    {
      "cell_type": "code",
      "execution_count": 16,
      "metadata": {},
      "outputs": [
        {
          "data": {
            "text/plain": [
              "<matplotlib.axes._subplots.AxesSubplot at 0x28754380f60>"
            ]
          },
          "execution_count": 17,
          "metadata": {},
          "output_type": "execute_result"
        },
        {
          "data": {
            "image/png": "[encoded data removed]",
            "text/plain": [
              "<matplotlib.figure.Figure at 0x28753b10fd0>"
            ]
          },
          "metadata": {},
          "output_type": "display_data"
        }
      ],
      "source": [
        "stock = StockPrices(\"NASDAQ:MSFT\", folder = cache)\n",
        "StockPrices.draw(stock, field=[\"Open\", \"Close\"], figsize=(12,6))"
      ]
    },
    {
      "cell_type": "markdown",
      "metadata": {},
      "source": [
        "Ce type de s\u00e9rie ne fait pas toujours appara\u00eetre les saut de prix qui survient comme par exemple le <a href=\"http://invest.bnpparibas.com/fr/pid5900/en-bref.html\">20 f\u00e9vrier 2002</a> lorsque le cours nominal de l'action de la BNP a \u00e9t\u00e9 divis\u00e9 par deux pour augmenter la liquidit\u00e9. Le nombre d'actions a \u00e9t\u00e9 multipli\u00e9 par deux. Les donn\u00e9es sont le plus souvent corrig\u00e9es [BNP f\u00e9vrier 2002](http://www.google.com/finance/historical?cid=667923&startdate=Feb+15%2C+2002&enddate=Feb+28%2C+2002&num=30&ei=AP8hWaDXF4WNUNuujYgK)."
      ]
    },
    {
      "cell_type": "markdown",
      "metadata": {},
      "source": [
        "### Ajouter une seconde s\u00e9rie sur un graphe"
      ]
    },
    {
      "cell_type": "markdown",
      "metadata": {},
      "source": [
        "Dans l'exemple suivant, on trace une s\u00e9rie financi\u00e8re puis on ajoute la s\u00e9rie des rendements sur un second axe."
      ]
    },
    {
      "cell_type": "code",
      "execution_count": 18,
      "metadata": {
        "scrolled": false
      },
      "outputs": [
        {
          "data": {
            "text/plain": [
              "<matplotlib.axes._subplots.AxesSubplot at 0x28753ea4b38>"
            ]
          },
          "execution_count": 19,
          "metadata": {},
          "output_type": "execute_result"
        },
        {
          "data": {
            "image/png": "[encoded data removed]",
            "text/plain": [
              "<matplotlib.figure.Figure at 0x28754572e10>"
            ]
          },
          "metadata": {},
          "output_type": "display_data"
        }
      ],
      "source": [
        "stock = StockPrices(\"NASDAQ:MSFT\")\n",
        "ret   = stock.returns()[\"2016-04-01\":\"2016-04-15\"]\n",
        "ret.dataframe.loc[\"2016-04-01\":\"2016-04-30\",\"Close\"]=0  # on annule certains valeurs\n",
        "ax = stock.plot(figsize=(16,8))\n",
        "ret.plot(axis=2, ax=ax)"
      ]
    },
    {
      "cell_type": "markdown",
      "metadata": {},
      "source": [
        "### Quelques op\u00e9rations"
      ]
    },
    {
      "cell_type": "code",
      "execution_count": 20,
      "metadata": {},
      "outputs": [
        {
          "data": {
            "text/plain": [
              "['NASDAQ_MSFT.2000-01-03.2017-09-15.txt']"
            ]
          },
          "execution_count": 21,
          "metadata": {},
          "output_type": "execute_result"
        }
      ],
      "source": [
        "os.listdir(cache)"
      ]
    },
    {
      "cell_type": "markdown",
      "metadata": {},
      "source": [
        "On affiche les derni\u00e8res lignes."
      ]
    },
    {
      "cell_type": "code",
      "execution_count": 22,
      "metadata": {},
      "outputs": [
        {
          "data": {
            "text/html": [
              "<div>\n",
              "<style>\n",
              "    .dataframe thead tr:only-child th {\n",
              "        text-align: right;\n",
              "    }\n",
              "\n",
              "    .dataframe thead th {\n",
              "        text-align: left;\n",
              "    }\n",
              "\n",
              "    .dataframe tbody tr th {\n",
              "        vertical-align: top;\n",
              "    }\n",
              "</style>\n",
              "<table border=\"1\" class=\"dataframe\">\n",
              "  <thead>\n",
              "    <tr style=\"text-align: right;\">\n",
              "      <th></th>\n",
              "      <th>Date</th>\n",
              "      <th>Open</th>\n",
              "      <th>High</th>\n",
              "      <th>Low</th>\n",
              "      <th>Close</th>\n",
              "      <th>Volume</th>\n",
              "    </tr>\n",
              "    <tr>\n",
              "      <th>Date</th>\n",
              "      <th></th>\n",
              "      <th></th>\n",
              "      <th></th>\n",
              "      <th></th>\n",
              "      <th></th>\n",
              "      <th></th>\n",
              "    </tr>\n",
              "  </thead>\n",
              "  <tbody>\n",
              "    <tr>\n",
              "      <th>2017-09-08</th>\n",
              "      <td>2017-09-08</td>\n",
              "      <td>74.33</td>\n",
              "      <td>74.44</td>\n",
              "      <td>73.84</td>\n",
              "      <td>73.98</td>\n",
              "      <td>14703816</td>\n",
              "    </tr>\n",
              "    <tr>\n",
              "      <th>2017-09-11</th>\n",
              "      <td>2017-09-11</td>\n",
              "      <td>74.31</td>\n",
              "      <td>74.94</td>\n",
              "      <td>74.31</td>\n",
              "      <td>74.76</td>\n",
              "      <td>17910383</td>\n",
              "    </tr>\n",
              "    <tr>\n",
              "      <th>2017-09-12</th>\n",
              "      <td>2017-09-12</td>\n",
              "      <td>74.76</td>\n",
              "      <td>75.24</td>\n",
              "      <td>74.37</td>\n",
              "      <td>74.68</td>\n",
              "      <td>14394850</td>\n",
              "    </tr>\n",
              "    <tr>\n",
              "      <th>2017-09-13</th>\n",
              "      <td>2017-09-13</td>\n",
              "      <td>74.93</td>\n",
              "      <td>75.23</td>\n",
              "      <td>74.55</td>\n",
              "      <td>75.21</td>\n",
              "      <td>13380802</td>\n",
              "    </tr>\n",
              "    <tr>\n",
              "      <th>2017-09-14</th>\n",
              "      <td>2017-09-14</td>\n",
              "      <td>75.00</td>\n",
              "      <td>75.49</td>\n",
              "      <td>74.52</td>\n",
              "      <td>74.77</td>\n",
              "      <td>15733914</td>\n",
              "    </tr>\n",
              "  </tbody>\n",
              "</table>\n",
              "</div>"
            ],
            "text/plain": [
              "                  Date   Open   High    Low  Close    Volume\n",
              "Date                                                        \n",
              "2017-09-08  2017-09-08  74.33  74.44  73.84  73.98  14703816\n",
              "2017-09-11  2017-09-11  74.31  74.94  74.31  74.76  17910383\n",
              "2017-09-12  2017-09-12  74.76  75.24  74.37  74.68  14394850\n",
              "2017-09-13  2017-09-13  74.93  75.23  74.55  75.21  13380802\n",
              "2017-09-14  2017-09-14  75.00  75.49  74.52  74.77  15733914"
            ]
          },
          "execution_count": 23,
          "metadata": {},
          "output_type": "execute_result"
        }
      ],
      "source": [
        "stock.tail()"
      ]
    },
    {
      "cell_type": "markdown",
      "metadata": {},
      "source": [
        "On r\u00e9cup\u00e8re la s\u00e9rie des rendements."
      ]
    },
    {
      "cell_type": "code",
      "execution_count": 24,
      "metadata": {},
      "outputs": [
        {
          "data": {
            "text/html": [
              "<div>\n",
              "<style>\n",
              "    .dataframe thead tr:only-child th {\n",
              "        text-align: right;\n",
              "    }\n",
              "\n",
              "    .dataframe thead th {\n",
              "        text-align: left;\n",
              "    }\n",
              "\n",
              "    .dataframe tbody tr th {\n",
              "        vertical-align: top;\n",
              "    }\n",
              "</style>\n",
              "<table border=\"1\" class=\"dataframe\">\n",
              "  <thead>\n",
              "    <tr style=\"text-align: right;\">\n",
              "      <th></th>\n",
              "      <th>Date</th>\n",
              "      <th>Volume</th>\n",
              "      <th>Open</th>\n",
              "      <th>High</th>\n",
              "      <th>Low</th>\n",
              "      <th>Close</th>\n",
              "    </tr>\n",
              "    <tr>\n",
              "      <th>Date</th>\n",
              "      <th></th>\n",
              "      <th></th>\n",
              "      <th></th>\n",
              "      <th></th>\n",
              "      <th></th>\n",
              "      <th></th>\n",
              "    </tr>\n",
              "  </thead>\n",
              "  <tbody>\n",
              "    <tr>\n",
              "      <th>2017-09-08</th>\n",
              "      <td>2017-09-08</td>\n",
              "      <td>14703816</td>\n",
              "      <td>0.008822</td>\n",
              "      <td>-0.002145</td>\n",
              "      <td>0.003261</td>\n",
              "      <td>-0.004843</td>\n",
              "    </tr>\n",
              "    <tr>\n",
              "      <th>2017-09-11</th>\n",
              "      <td>2017-09-11</td>\n",
              "      <td>17910383</td>\n",
              "      <td>-0.000269</td>\n",
              "      <td>0.006717</td>\n",
              "      <td>0.006365</td>\n",
              "      <td>0.010543</td>\n",
              "    </tr>\n",
              "    <tr>\n",
              "      <th>2017-09-12</th>\n",
              "      <td>2017-09-12</td>\n",
              "      <td>14394850</td>\n",
              "      <td>0.006056</td>\n",
              "      <td>0.004003</td>\n",
              "      <td>0.000807</td>\n",
              "      <td>-0.001070</td>\n",
              "    </tr>\n",
              "    <tr>\n",
              "      <th>2017-09-13</th>\n",
              "      <td>2017-09-13</td>\n",
              "      <td>13380802</td>\n",
              "      <td>0.002274</td>\n",
              "      <td>-0.000133</td>\n",
              "      <td>0.002420</td>\n",
              "      <td>0.007097</td>\n",
              "    </tr>\n",
              "    <tr>\n",
              "      <th>2017-09-14</th>\n",
              "      <td>2017-09-14</td>\n",
              "      <td>15733914</td>\n",
              "      <td>0.000934</td>\n",
              "      <td>0.003456</td>\n",
              "      <td>-0.000402</td>\n",
              "      <td>-0.005850</td>\n",
              "    </tr>\n",
              "  </tbody>\n",
              "</table>\n",
              "</div>"
            ],
            "text/plain": [
              "                  Date    Volume      Open      High       Low     Close\n",
              "Date                                                                    \n",
              "2017-09-08  2017-09-08  14703816  0.008822 -0.002145  0.003261 -0.004843\n",
              "2017-09-11  2017-09-11  17910383 -0.000269  0.006717  0.006365  0.010543\n",
              "2017-09-12  2017-09-12  14394850  0.006056  0.004003  0.000807 -0.001070\n",
              "2017-09-13  2017-09-13  13380802  0.002274 -0.000133  0.002420  0.007097\n",
              "2017-09-14  2017-09-14  15733914  0.000934  0.003456 -0.000402 -0.005850"
            ]
          },
          "execution_count": 25,
          "metadata": {},
          "output_type": "execute_result"
        }
      ],
      "source": [
        "ret = stock.returns()\n",
        "ret.tail()"
      ]
    },
    {
      "cell_type": "markdown",
      "metadata": {},
      "source": [
        "On trace la s\u00e9rie des rendements pour les derniers mois."
      ]
    },
    {
      "cell_type": "code",
      "execution_count": 26,
      "metadata": {},
      "outputs": [
        {
          "data": {
            "text/plain": [
              "<matplotlib.axes._subplots.AxesSubplot at 0x28754a66240>"
            ]
          },
          "execution_count": 27,
          "metadata": {},
          "output_type": "execute_result"
        },
        {
          "data": {
            "image/png": "[encoded data removed]",
            "text/plain": [
              "<matplotlib.figure.Figure at 0x28754a46ba8>"
            ]
          },
          "metadata": {},
          "output_type": "display_data"
        }
      ],
      "source": [
        "StockPrices.draw(ret, figsize=(12,6), begin=\"2013-12-01\", date_format=\"%Y-%m\")"
      ]
    },
    {
      "cell_type": "markdown",
      "metadata": {},
      "source": [
        "### Quelques notions sur les dates"
      ]
    },
    {
      "cell_type": "markdown",
      "metadata": {},
      "source": [
        "La classe <i>StockPrices</i> utilise les dates sous forme de cha\u00eenes de caract\u00e8res. De cette fa\u00e7on, il n'est pas possible de faire des op\u00e9rations dessus. Pour ce faire, il faut les convertir en un objet appel\u00e9 <a href=\"https://docs.python.org/2/library/datetime.html\">datetime</a>."
      ]
    },
    {
      "cell_type": "code",
      "execution_count": 28,
      "metadata": {},
      "outputs": [
        {
          "data": {
            "text/plain": [
              "datetime.datetime(2014, 3, 31, 0, 0)"
            ]
          },
          "execution_count": 29,
          "metadata": {},
          "output_type": "execute_result"
        }
      ],
      "source": [
        "from datetime import datetime, timedelta\n",
        "dt = datetime.strptime(\"2014-03-31\",\"%Y-%m-%d\")\n",
        "dt"
      ]
    },
    {
      "cell_type": "markdown",
      "metadata": {},
      "source": [
        "On ajoute un jour :"
      ]
    },
    {
      "cell_type": "code",
      "execution_count": 30,
      "metadata": {},
      "outputs": [
        {
          "data": {
            "text/plain": [
              "datetime.datetime(2014, 4, 1, 0, 0)"
            ]
          },
          "execution_count": 31,
          "metadata": {},
          "output_type": "execute_result"
        }
      ],
      "source": [
        "delta = timedelta(1)\n",
        "dt = dt + delta\n",
        "dt"
      ]
    },
    {
      "cell_type": "markdown",
      "metadata": {},
      "source": [
        "Puis on convertit dans l'autre sens :"
      ]
    },
    {
      "cell_type": "code",
      "execution_count": 32,
      "metadata": {},
      "outputs": [
        {
          "data": {
            "text/plain": [
              "'2014-04-01'"
            ]
          },
          "execution_count": 33,
          "metadata": {},
          "output_type": "execute_result"
        }
      ],
      "source": [
        "s = dt.strftime(\"%Y-%m-%d\")\n",
        "s"
      ]
    },
    {
      "cell_type": "markdown",
      "metadata": {},
      "source": [
        "### Promenade dans l'index"
      ]
    },
    {
      "cell_type": "markdown",
      "metadata": {},
      "source": [
        "Il est facile de r\u00e9cup\u00e9rer les valeurs correspondant \u00e0 une date pr\u00e9cise. Mais comment r\u00e9cup\u00e9rer la valeur du jour d'apr\u00e8s ?"
      ]
    },
    {
      "cell_type": "code",
      "execution_count": 34,
      "metadata": {},
      "outputs": [
        {
          "name": "stdout",
          "output_type": "stream",
          "text": [
            "A                   Date    Open    High    Low  Close    Volume\n",
            "Date                                                          \n",
            "2005-01-04  2005-01-04  100.77  101.57  96.84  97.35  13762396\n",
            "2005-01-05  2005-01-05   96.82   98.55  96.21  96.85   8239545\n",
            "2005-01-06  2005-01-06   97.72   98.05  93.95  94.37  10389803\n",
            "D 97.35\n",
            "G 97\n"
          ]
        }
      ],
      "source": [
        "stock = StockPrices (\"NASDAQ:GOOGL\", folder = cache)\n",
        "df = stock.dataframe\n",
        "print(\"A\", df[\"2005-01-04\":\"2005-01-06\"])\n",
        "print(\"D\", df.loc[\"2005-01-04\",\"Close\"])\n",
        "print(\"G\", df.index.get_loc(\"2005-01-06\"))  # retourne la position de cette date"
      ]
    },
    {
      "cell_type": "markdown",
      "metadata": {},
      "source": [
        "### Sauver les tables"
      ]
    },
    {
      "cell_type": "markdown",
      "metadata": {},
      "source": [
        "On peut conserver les donn\u00e9es sous forme de fichiers pour les r\u00e9cup\u00e9rer plus tard."
      ]
    },
    {
      "cell_type": "code",
      "execution_count": 35,
      "metadata": {},
      "outputs": [
        {
          "data": {
            "text/plain": [
              "['.ipynb_checkpoints',\n",
              " 'azure_blob_storage.ipynb',\n",
              " 'cache',\n",
              " 'dbcc.png',\n",
              " 'donnees.txt',\n",
              " 'draw_diagram.ipynb',\n",
              " 'example_corrplot.ipynb',\n",
              " 'example_of_ssh_client_communication.ipynb',\n",
              " 'exemple.py',\n",
              " 'flatfile.txt',\n",
              " 'flatfile_tab.txt',\n",
              " 'flatfile_tab2.txt',\n",
              " 'flatfile_tab_pos2.db3',\n",
              " 'flatfile_tab_pos2.txt',\n",
              " 'folium_map.ipynb',\n",
              " 'img_nb_sqlitespy.png',\n",
              " 'magic_commands_about_files.ipynb',\n",
              " 'notebook_example.db3',\n",
              " 'pyensae_flat2db3.ipynb',\n",
              " 'pyensae_sql_magic.ipynb',\n",
              " 'pyensae_StockPrices.ipynb',\n",
              " 'pyensae_text2table.ipynb',\n",
              " 'pyensae_velib.ipynb',\n",
              " 'python_hadoop_pig.ipynb',\n",
              " 'r2python.ipynb',\n",
              " 'README.txt',\n",
              " 'using_qgrid_with_jsdf.ipynb',\n",
              " 'velib_vanves.txt',\n",
              " 'velib_vanves.zip',\n",
              " 'view_differences.ipynb']"
            ]
          },
          "execution_count": 36,
          "metadata": {},
          "output_type": "execute_result"
        }
      ],
      "source": [
        "stock = StockPrices(\"NASDAQ:GOOGL\", folder=cache)\n",
        "stock.dataframe.to_csv(\"donnees.txt\", sep=\"\\t\")\n",
        "os.listdir(\".\")"
      ]
    },
    {
      "cell_type": "markdown",
      "metadata": {},
      "source": [
        "Le fichier est sauv\u00e9. Pour le r\u00e9cup\u00e9rer avec pandas :"
      ]
    },
    {
      "cell_type": "code",
      "execution_count": 37,
      "metadata": {},
      "outputs": [
        {
          "data": {
            "text/html": [
              "<div>\n",
              "<style>\n",
              "    .dataframe thead tr:only-child th {\n",
              "        text-align: right;\n",
              "    }\n",
              "\n",
              "    .dataframe thead th {\n",
              "        text-align: left;\n",
              "    }\n",
              "\n",
              "    .dataframe tbody tr th {\n",
              "        vertical-align: top;\n",
              "    }\n",
              "</style>\n",
              "<table border=\"1\" class=\"dataframe\">\n",
              "  <thead>\n",
              "    <tr style=\"text-align: right;\">\n",
              "      <th></th>\n",
              "      <th>Date</th>\n",
              "      <th>Date.1</th>\n",
              "      <th>Open</th>\n",
              "      <th>High</th>\n",
              "      <th>Low</th>\n",
              "      <th>Close</th>\n",
              "      <th>Volume</th>\n",
              "    </tr>\n",
              "  </thead>\n",
              "  <tbody>\n",
              "    <tr>\n",
              "      <th>0</th>\n",
              "      <td>2004-08-19</td>\n",
              "      <td>2004-08-19</td>\n",
              "      <td>50.06</td>\n",
              "      <td>52.08</td>\n",
              "      <td>48.03</td>\n",
              "      <td>50.22</td>\n",
              "      <td>22353092</td>\n",
              "    </tr>\n",
              "    <tr>\n",
              "      <th>1</th>\n",
              "      <td>2004-08-20</td>\n",
              "      <td>2004-08-20</td>\n",
              "      <td>50.79</td>\n",
              "      <td>54.59</td>\n",
              "      <td>50.30</td>\n",
              "      <td>54.21</td>\n",
              "      <td>11429498</td>\n",
              "    </tr>\n",
              "    <tr>\n",
              "      <th>2</th>\n",
              "      <td>2004-08-23</td>\n",
              "      <td>2004-08-23</td>\n",
              "      <td>55.44</td>\n",
              "      <td>56.80</td>\n",
              "      <td>54.58</td>\n",
              "      <td>54.75</td>\n",
              "      <td>9140244</td>\n",
              "    </tr>\n",
              "    <tr>\n",
              "      <th>3</th>\n",
              "      <td>2004-08-24</td>\n",
              "      <td>2004-08-24</td>\n",
              "      <td>55.68</td>\n",
              "      <td>55.86</td>\n",
              "      <td>51.84</td>\n",
              "      <td>52.49</td>\n",
              "      <td>7632224</td>\n",
              "    </tr>\n",
              "    <tr>\n",
              "      <th>4</th>\n",
              "      <td>2004-08-25</td>\n",
              "      <td>2004-08-25</td>\n",
              "      <td>52.53</td>\n",
              "      <td>54.05</td>\n",
              "      <td>51.99</td>\n",
              "      <td>53.05</td>\n",
              "      <td>4599110</td>\n",
              "    </tr>\n",
              "  </tbody>\n",
              "</table>\n",
              "</div>"
            ],
            "text/plain": [
              "         Date      Date.1   Open   High    Low  Close    Volume\n",
              "0  2004-08-19  2004-08-19  50.06  52.08  48.03  50.22  22353092\n",
              "1  2004-08-20  2004-08-20  50.79  54.59  50.30  54.21  11429498\n",
              "2  2004-08-23  2004-08-23  55.44  56.80  54.58  54.75   9140244\n",
              "3  2004-08-24  2004-08-24  55.68  55.86  51.84  52.49   7632224\n",
              "4  2004-08-25  2004-08-25  52.53  54.05  51.99  53.05   4599110"
            ]
          },
          "execution_count": 38,
          "metadata": {},
          "output_type": "execute_result"
        }
      ],
      "source": [
        "import pandas\n",
        "df = pandas.read_csv(\"donnees.txt\", sep=\"\\t\")\n",
        "df.head()"
      ]
    },
    {
      "cell_type": "markdown",
      "metadata": {},
      "source": [
        "Les dates apparaissent deux fois."
      ]
    },
    {
      "cell_type": "code",
      "execution_count": 39,
      "metadata": {},
      "outputs": [
        {
          "name": "stdout",
          "output_type": "stream",
          "text": [
            "Date\tDate\tOpen\tHigh\tLow\tClose\tVolume\n",
            "2004-08-19\t2004-08-19\t50.06\t52.08\t48.03\t50.22\t22353092\n",
            "2004-08-20\t2004-08-20\t50.79\t54.59\t50.3\t54.21\t11429498\n",
            "2004-08-23\t2004-08-23\t55.44\t56.8\t54.58\t54.75\t9140244\n",
            "2004-08-24\t2004-08-24\t55.68\t55.86\t51.84\t52.49\t7632224\n",
            "2004-08-25\t2004-08-25\t52.53\t54.05\t51.99\t53.05\t4599110\n",
            "2004-08-26\t2004-08-26\t52.53\t54.03\t52.38\t54.01\t3551168\n",
            "2004-08-27\t2004-08-27\t54.1\t54.36\t52.9\t5\n"
          ]
        }
      ],
      "source": [
        "with open(\"donnees.txt\",\"r\") as f: \n",
        "    text = f.read()\n",
        "print(text[:400])"
      ]
    },
    {
      "cell_type": "markdown",
      "metadata": {},
      "source": [
        "Cela est d\u00fb au fait que les dates sont \u00e0 la fois une colonne et servent d'index. Pour \u00e9viter de les conserver deux fois, on demande explicitement \u00e0 ce que l'index ne soit pas ajout\u00e9 au fichier : "
      ]
    },
    {
      "cell_type": "code",
      "execution_count": 40,
      "metadata": {
        "collapsed": true
      },
      "outputs": [],
      "source": [
        "stock = StockPrices(\"NASDAQ:GOOGL\", folder=cache)\n",
        "stock.dataframe.to_csv(\"donnees.txt\", sep=\"\\t\", index=False)"
      ]
    },
    {
      "cell_type": "markdown",
      "metadata": {},
      "source": [
        "Puis on r\u00e9cup\u00e8re les donn\u00e9es :"
      ]
    },
    {
      "cell_type": "code",
      "execution_count": 41,
      "metadata": {},
      "outputs": [
        {
          "data": {
            "text/html": [
              "<div>\n",
              "<style>\n",
              "    .dataframe thead tr:only-child th {\n",
              "        text-align: right;\n",
              "    }\n",
              "\n",
              "    .dataframe thead th {\n",
              "        text-align: left;\n",
              "    }\n",
              "\n",
              "    .dataframe tbody tr th {\n",
              "        vertical-align: top;\n",
              "    }\n",
              "</style>\n",
              "<table border=\"1\" class=\"dataframe\">\n",
              "  <thead>\n",
              "    <tr style=\"text-align: right;\">\n",
              "      <th></th>\n",
              "      <th>Date</th>\n",
              "      <th>Open</th>\n",
              "      <th>High</th>\n",
              "      <th>Low</th>\n",
              "      <th>Close</th>\n",
              "      <th>Volume</th>\n",
              "    </tr>\n",
              "  </thead>\n",
              "  <tbody>\n",
              "    <tr>\n",
              "      <th>0</th>\n",
              "      <td>2004-08-19</td>\n",
              "      <td>50.06</td>\n",
              "      <td>52.08</td>\n",
              "      <td>48.03</td>\n",
              "      <td>50.22</td>\n",
              "      <td>22353092</td>\n",
              "    </tr>\n",
              "    <tr>\n",
              "      <th>1</th>\n",
              "      <td>2004-08-20</td>\n",
              "      <td>50.79</td>\n",
              "      <td>54.59</td>\n",
              "      <td>50.30</td>\n",
              "      <td>54.21</td>\n",
              "      <td>11429498</td>\n",
              "    </tr>\n",
              "    <tr>\n",
              "      <th>2</th>\n",
              "      <td>2004-08-23</td>\n",
              "      <td>55.44</td>\n",
              "      <td>56.80</td>\n",
              "      <td>54.58</td>\n",
              "      <td>54.75</td>\n",
              "      <td>9140244</td>\n",
              "    </tr>\n",
              "    <tr>\n",
              "      <th>3</th>\n",
              "      <td>2004-08-24</td>\n",
              "      <td>55.68</td>\n",
              "      <td>55.86</td>\n",
              "      <td>51.84</td>\n",
              "      <td>52.49</td>\n",
              "      <td>7632224</td>\n",
              "    </tr>\n",
              "    <tr>\n",
              "      <th>4</th>\n",
              "      <td>2004-08-25</td>\n",
              "      <td>52.53</td>\n",
              "      <td>54.05</td>\n",
              "      <td>51.99</td>\n",
              "      <td>53.05</td>\n",
              "      <td>4599110</td>\n",
              "    </tr>\n",
              "  </tbody>\n",
              "</table>\n",
              "</div>"
            ],
            "text/plain": [
              "         Date   Open   High    Low  Close    Volume\n",
              "0  2004-08-19  50.06  52.08  48.03  50.22  22353092\n",
              "1  2004-08-20  50.79  54.59  50.30  54.21  11429498\n",
              "2  2004-08-23  55.44  56.80  54.58  54.75   9140244\n",
              "3  2004-08-24  55.68  55.86  51.84  52.49   7632224\n",
              "4  2004-08-25  52.53  54.05  51.99  53.05   4599110"
            ]
          },
          "execution_count": 42,
          "metadata": {},
          "output_type": "execute_result"
        }
      ],
      "source": [
        "df = pandas.read_csv(\"donnees.txt\",sep=\"\\t\")\n",
        "df.head()"
      ]
    },
    {
      "cell_type": "markdown",
      "metadata": {},
      "source": [
        "On v\u00e9rifie le fichier sur disque dur :"
      ]
    },
    {
      "cell_type": "code",
      "execution_count": 43,
      "metadata": {},
      "outputs": [
        {
          "name": "stdout",
          "output_type": "stream",
          "text": [
            "Date\tOpen\tHigh\tLow\tClose\tVolume\n",
            "2004-08-19\t50.06\t52.08\t48.03\t50.22\t22353092\n",
            "2004-08-20\t50.79\t54.59\t50.3\t54.21\t11429498\n",
            "2004-08-23\t55.44\t56.8\t54.58\t54.75\t9140244\n",
            "2004-08-24\t55.68\t55.86\t51.84\t52.49\t7632224\n",
            "2004-08-25\t52.53\t54.05\t51.99\t53.05\t4599110\n",
            "2004-08-26\t52.53\t54.03\t52.38\t54.01\t3551168\n",
            "2004-08-27\t54.1\t54.36\t52.9\t53.13\t3108977\n",
            "2004-08-30\t52.8\t52.8\t51.06\t51.06\t2601620\n",
            "2004-08-31\t51.21\t51.91\t51.13\n"
          ]
        }
      ],
      "source": [
        "with open(\"donnees.txt\", \"r\") as f:\n",
        "    text = f.read()\n",
        "print(text[:400])"
      ]
    },
    {
      "cell_type": "markdown",
      "metadata": {},
      "source": [
        "C'est mieux."
      ]
    }
  ],
  "metadata": {
    "kernelspec": {
      "display_name": "Python 3",
      "language": "python",
      "name": "python3"
    },
    "language_info": {
      "codemirror_mode": {
        "name": "ipython",
        "version": 3
      },
      "file_extension": ".py",
      "mimetype": "text/x-python",
      "name": "python",
      "nbconvert_exporter": "python",
      "pygments_lexer": "ipython3",
      "version": "3.6.1"
    }
  },
  "nbformat": 4,
  "nbformat_minor": 1
}