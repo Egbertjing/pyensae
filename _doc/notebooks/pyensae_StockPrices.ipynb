{
  "cells": [
    {
      "cell_type": "markdown",
      "metadata": {},
      "source": [
        "# Manipulation de s\u00e9ries financi\u00e8res avec la classe StockPrices\n",
        "\n",
        "La classe [StockPrices](http://www.xavierdupre.fr/app/pyensae/helpsphinx/notebooks/pyensae%20StockPrices.html?highlight=stockprices) facilite la r\u00e9cup\u00e9ration de donn\u00e9es financi\u00e8res via diff\u00e9rents sites. Le site [Yahoo Finance](http://finance.yahoo.com/) requiet maintenant un cookie (depuis Mai 2017) et il est pr\u00e9f\u00e9rable de choisir [Google](https://www.google.com/finance?q=apple&ei=bPghWZnLDoKVULfBk-gC) ou [Quandl](https://www.quandl.com/tools/python). Google ne fonctionne que les march\u00e9s am\u00e9ricains, [Quandl](https://www.quandl.com/tools/python) a des historiques plus courts."
      ]
    },
    {
      "cell_type": "code",
      "execution_count": 1,
      "metadata": {},
      "outputs": [
        {
          "data": {
            "text/html": [
              "<div id=\"my_id_menu_nb\">run previous cell, wait for 2 seconds</div>\n",
              "<script>\n",
              "function repeat_indent_string(n){\n",
              "    var a = \"\" ;\n",
              "    for ( ; n > 0 ; --n)\n",
              "        a += \"    \";\n",
              "    return a;\n",
              "}\n",
              "// look up into all sections and builds an automated menu //\n",
              "var update_menu_string = function(begin, lfirst, llast, sformat, send, keep_item, begin_format, end_format) {\n",
              "    var anchors = document.getElementsByClassName(\"section\");\n",
              "    if (anchors.length == 0) {\n",
              "        anchors = document.getElementsByClassName(\"text_cell_render rendered_html\");\n",
              "    }\n",
              "    var i,t;\n",
              "    var text_menu = begin;\n",
              "    var text_memo = \"<pre>\\nlength:\" + anchors.length + \"\\n\";\n",
              "    var ind = \"\";\n",
              "    var memo_level = 1;\n",
              "    var href;\n",
              "    var tags = [];\n",
              "    var main_item = 0;\n",
              "    var format_open = 0;\n",
              "    for (i = 0; i <= llast; i++)\n",
              "        tags.push(\"h\" + i);\n",
              "\n",
              "    for (i = 0; i < anchors.length; i++) {\n",
              "        text_memo += \"**\" + anchors[i].id + \"--\\n\";\n",
              "\n",
              "        var child = null;\n",
              "        for(t = 0; t < tags.length; t++) {\n",
              "            var r = anchors[i].getElementsByTagName(tags[t]);\n",
              "            if (r.length > 0) {\n",
              "child = r[0];\n",
              "break;\n",
              "            }\n",
              "        }\n",
              "        if (child == null) {\n",
              "            text_memo += \"null\\n\";\n",
              "            continue;\n",
              "        }\n",
              "        if (anchors[i].hasAttribute(\"id\")) {\n",
              "            // when converted in RST\n",
              "            href = anchors[i].id;\n",
              "            text_memo += \"#1-\" + href;\n",
              "            // passer \u00e0 child suivant (le chercher)\n",
              "        }\n",
              "        else if (child.hasAttribute(\"id\")) {\n",
              "            // in a notebook\n",
              "            href = child.id;\n",
              "            text_memo += \"#2-\" + href;\n",
              "        }\n",
              "        else {\n",
              "            text_memo += \"#3-\" + \"*\" + \"\\n\";\n",
              "            continue;\n",
              "        }\n",
              "        var title = child.textContent;\n",
              "        var level = parseInt(child.tagName.substring(1,2));\n",
              "\n",
              "        text_memo += \"--\" + level + \"?\" + lfirst + \"--\" + title + \"\\n\";\n",
              "\n",
              "        if ((level < lfirst) || (level > llast)) {\n",
              "            continue ;\n",
              "        }\n",
              "        if (title.endsWith('\u00b6')) {\n",
              "            title = title.substring(0,title.length-1).replace(\"<\", \"&lt;\")\n",
              "         .replace(\">\", \"&gt;\").replace(\"&\", \"&amp;\");\n",
              "        }\n",
              "        if (title.length == 0) {\n",
              "            continue;\n",
              "        }\n",
              "\n",
              "        while (level < memo_level) {\n",
              "            text_menu += end_format + \"</ul>\\n\";\n",
              "            format_open -= 1;\n",
              "            memo_level -= 1;\n",
              "        }\n",
              "        if (level == lfirst) {\n",
              "            main_item += 1;\n",
              "        }\n",
              "        if (keep_item != -1 && main_item != keep_item + 1) {\n",
              "            // alert(main_item + \" - \" + level + \" - \" + keep_item);\n",
              "            continue;\n",
              "        }\n",
              "        while (level > memo_level) {\n",
              "            text_menu += \"<ul>\\n\";\n",
              "            memo_level += 1;\n",
              "        }\n",
              "        text_menu += repeat_indent_string(level-2);\n",
              "        text_menu += begin_format + sformat.replace(\"__HREF__\", href).replace(\"__TITLE__\", title);\n",
              "        format_open += 1;\n",
              "    }\n",
              "    while (1 < memo_level) {\n",
              "        text_menu += end_format + \"</ul>\\n\";\n",
              "        memo_level -= 1;\n",
              "        format_open -= 1;\n",
              "    }\n",
              "    text_menu += send;\n",
              "    //text_menu += \"\\n\" + text_memo;\n",
              "\n",
              "    while (format_open > 0) {\n",
              "        text_menu += end_format;\n",
              "        format_open -= 1;\n",
              "    }\n",
              "    return text_menu;\n",
              "};\n",
              "var update_menu = function() {\n",
              "    var sbegin = \"\";\n",
              "    var sformat = '<a href=\"#__HREF__\">__TITLE__</a>';\n",
              "    var send = \"\";\n",
              "    var begin_format = '<li>';\n",
              "    var end_format = '</li>';\n",
              "    var keep_item = -1;\n",
              "    var text_menu = update_menu_string(sbegin, 2, 4, sformat, send, keep_item,\n",
              "       begin_format, end_format);\n",
              "    var menu = document.getElementById(\"my_id_menu_nb\");\n",
              "    menu.innerHTML=text_menu;\n",
              "};\n",
              "window.setTimeout(update_menu,2000);\n",
              "            </script>"
            ],
            "text/plain": [
              "<IPython.core.display.HTML object>"
            ]
          },
          "execution_count": 2,
          "metadata": {},
          "output_type": "execute_result"
        }
      ],
      "source": [
        "import pyensae\n",
        "from jyquickhelper import add_notebook_menu\n",
        "add_notebook_menu()"
      ]
    },
    {
      "cell_type": "code",
      "execution_count": 2,
      "metadata": {},
      "outputs": [],
      "source": [
        "%matplotlib inline\n",
        "import matplotlib.pyplot as plt\n",
        "plt.style.use('ggplot')"
      ]
    },
    {
      "cell_type": "markdown",
      "metadata": {},
      "source": [
        "### Initialisation"
      ]
    },
    {
      "cell_type": "code",
      "execution_count": 3,
      "metadata": {},
      "outputs": [],
      "source": [
        "import pyensae\n",
        "import os\n",
        "from pyensae.finance import StockPrices\n",
        "cache = os.path.abspath(\"cache\")\n",
        "if not os.path.exists(cache):\n",
        "    os.mkdir(cache)"
      ]
    },
    {
      "cell_type": "markdown",
      "metadata": {},
      "source": [
        "### Cr\u00e9er un objet StockPrices"
      ]
    },
    {
      "cell_type": "markdown",
      "metadata": {},
      "source": [
        "Le plus est d'utiliser le tick de la s\u00e9rie financi\u00e8re utilis\u00e9 par le site [Yahoo Finance](https://fr.finance.yahoo.com) ou [Google Finance](https://www.google.com/search?q=finance) qui fait maintenant partie du moteur de recherche ou [quandl](https://www.quandl.com/tools/python)."
      ]
    },
    {
      "cell_type": "code",
      "execution_count": 4,
      "metadata": {},
      "outputs": [
        {
          "data": {
            "text/html": [
              "<div>\n",
              "<style scoped>\n",
              "    .dataframe tbody tr th:only-of-type {\n",
              "        vertical-align: middle;\n",
              "    }\n",
              "\n",
              "    .dataframe tbody tr th {\n",
              "        vertical-align: top;\n",
              "    }\n",
              "\n",
              "    .dataframe thead th {\n",
              "        text-align: right;\n",
              "    }\n",
              "</style>\n",
              "<table border=\"1\" class=\"dataframe\">\n",
              "  <thead>\n",
              "    <tr style=\"text-align: right;\">\n",
              "      <th></th>\n",
              "      <th>Date</th>\n",
              "      <th>Open</th>\n",
              "      <th>High</th>\n",
              "      <th>Low</th>\n",
              "      <th>Close</th>\n",
              "      <th>Adj Close</th>\n",
              "      <th>Volume</th>\n",
              "    </tr>\n",
              "    <tr>\n",
              "      <th>Date</th>\n",
              "      <th></th>\n",
              "      <th></th>\n",
              "      <th></th>\n",
              "      <th></th>\n",
              "      <th></th>\n",
              "      <th></th>\n",
              "      <th></th>\n",
              "    </tr>\n",
              "  </thead>\n",
              "  <tbody>\n",
              "    <tr>\n",
              "      <th>2000-01-03</th>\n",
              "      <td>2000-01-03</td>\n",
              "      <td>58.68750</td>\n",
              "      <td>59.3125</td>\n",
              "      <td>56.00000</td>\n",
              "      <td>58.28125</td>\n",
              "      <td>42.295185</td>\n",
              "      <td>53228400</td>\n",
              "    </tr>\n",
              "    <tr>\n",
              "      <th>2000-01-04</th>\n",
              "      <td>2000-01-04</td>\n",
              "      <td>56.78125</td>\n",
              "      <td>58.5625</td>\n",
              "      <td>56.12500</td>\n",
              "      <td>56.31250</td>\n",
              "      <td>40.866425</td>\n",
              "      <td>54119000</td>\n",
              "    </tr>\n",
              "    <tr>\n",
              "      <th>2000-01-05</th>\n",
              "      <td>2000-01-05</td>\n",
              "      <td>55.56250</td>\n",
              "      <td>58.1875</td>\n",
              "      <td>54.68750</td>\n",
              "      <td>56.90625</td>\n",
              "      <td>41.297348</td>\n",
              "      <td>64059600</td>\n",
              "    </tr>\n",
              "    <tr>\n",
              "      <th>2000-01-06</th>\n",
              "      <td>2000-01-06</td>\n",
              "      <td>56.09375</td>\n",
              "      <td>56.9375</td>\n",
              "      <td>54.18750</td>\n",
              "      <td>55.00000</td>\n",
              "      <td>39.913952</td>\n",
              "      <td>54976600</td>\n",
              "    </tr>\n",
              "    <tr>\n",
              "      <th>2000-01-07</th>\n",
              "      <td>2000-01-07</td>\n",
              "      <td>54.31250</td>\n",
              "      <td>56.1250</td>\n",
              "      <td>53.65625</td>\n",
              "      <td>55.71875</td>\n",
              "      <td>40.435547</td>\n",
              "      <td>62013600</td>\n",
              "    </tr>\n",
              "  </tbody>\n",
              "</table>\n",
              "</div>"
            ],
            "text/plain": [
              "                  Date      Open     High       Low     Close  Adj Close  \\\n",
              "Date                                                                       \n",
              "2000-01-03  2000-01-03  58.68750  59.3125  56.00000  58.28125  42.295185   \n",
              "2000-01-04  2000-01-04  56.78125  58.5625  56.12500  56.31250  40.866425   \n",
              "2000-01-05  2000-01-05  55.56250  58.1875  54.68750  56.90625  41.297348   \n",
              "2000-01-06  2000-01-06  56.09375  56.9375  54.18750  55.00000  39.913952   \n",
              "2000-01-07  2000-01-07  54.31250  56.1250  53.65625  55.71875  40.435547   \n",
              "\n",
              "              Volume  \n",
              "Date                  \n",
              "2000-01-03  53228400  \n",
              "2000-01-04  54119000  \n",
              "2000-01-05  64059600  \n",
              "2000-01-06  54976600  \n",
              "2000-01-07  62013600  "
            ]
          },
          "execution_count": 5,
          "metadata": {},
          "output_type": "execute_result"
        }
      ],
      "source": [
        "source = 'yahoo_new'\n",
        "tick = 'MSFT'\n",
        "stock = StockPrices(tick, folder=cache, url=source)\n",
        "stock.head()"
      ]
    },
    {
      "cell_type": "code",
      "execution_count": 5,
      "metadata": {},
      "outputs": [
        {
          "data": {
            "text/html": [
              "<div>\n",
              "<style scoped>\n",
              "    .dataframe tbody tr th:only-of-type {\n",
              "        vertical-align: middle;\n",
              "    }\n",
              "\n",
              "    .dataframe tbody tr th {\n",
              "        vertical-align: top;\n",
              "    }\n",
              "\n",
              "    .dataframe thead th {\n",
              "        text-align: right;\n",
              "    }\n",
              "</style>\n",
              "<table border=\"1\" class=\"dataframe\">\n",
              "  <thead>\n",
              "    <tr style=\"text-align: right;\">\n",
              "      <th></th>\n",
              "      <th>Date</th>\n",
              "      <th>Open</th>\n",
              "      <th>High</th>\n",
              "      <th>Low</th>\n",
              "      <th>Close</th>\n",
              "      <th>Adj Close</th>\n",
              "      <th>Volume</th>\n",
              "    </tr>\n",
              "    <tr>\n",
              "      <th>Date</th>\n",
              "      <th></th>\n",
              "      <th></th>\n",
              "      <th></th>\n",
              "      <th></th>\n",
              "      <th></th>\n",
              "      <th></th>\n",
              "      <th></th>\n",
              "    </tr>\n",
              "  </thead>\n",
              "  <tbody>\n",
              "    <tr>\n",
              "      <th>2019-01-25</th>\n",
              "      <td>2019-01-25</td>\n",
              "      <td>107.239998</td>\n",
              "      <td>107.879997</td>\n",
              "      <td>106.199997</td>\n",
              "      <td>107.169998</td>\n",
              "      <td>107.169998</td>\n",
              "      <td>31225600</td>\n",
              "    </tr>\n",
              "    <tr>\n",
              "      <th>2019-01-28</th>\n",
              "      <td>2019-01-28</td>\n",
              "      <td>106.260002</td>\n",
              "      <td>106.480003</td>\n",
              "      <td>104.660004</td>\n",
              "      <td>105.080002</td>\n",
              "      <td>105.080002</td>\n",
              "      <td>29476700</td>\n",
              "    </tr>\n",
              "    <tr>\n",
              "      <th>2019-01-29</th>\n",
              "      <td>2019-01-29</td>\n",
              "      <td>104.879997</td>\n",
              "      <td>104.970001</td>\n",
              "      <td>102.169998</td>\n",
              "      <td>102.940002</td>\n",
              "      <td>102.940002</td>\n",
              "      <td>31490500</td>\n",
              "    </tr>\n",
              "    <tr>\n",
              "      <th>2019-01-30</th>\n",
              "      <td>2019-01-30</td>\n",
              "      <td>104.620003</td>\n",
              "      <td>106.379997</td>\n",
              "      <td>104.330002</td>\n",
              "      <td>106.379997</td>\n",
              "      <td>106.379997</td>\n",
              "      <td>49471900</td>\n",
              "    </tr>\n",
              "    <tr>\n",
              "      <th>2019-01-31</th>\n",
              "      <td>2019-01-31</td>\n",
              "      <td>103.800003</td>\n",
              "      <td>105.220001</td>\n",
              "      <td>103.180000</td>\n",
              "      <td>104.430000</td>\n",
              "      <td>104.430000</td>\n",
              "      <td>55636400</td>\n",
              "    </tr>\n",
              "  </tbody>\n",
              "</table>\n",
              "</div>"
            ],
            "text/plain": [
              "                  Date        Open        High         Low       Close  \\\n",
              "Date                                                                     \n",
              "2019-01-25  2019-01-25  107.239998  107.879997  106.199997  107.169998   \n",
              "2019-01-28  2019-01-28  106.260002  106.480003  104.660004  105.080002   \n",
              "2019-01-29  2019-01-29  104.879997  104.970001  102.169998  102.940002   \n",
              "2019-01-30  2019-01-30  104.620003  106.379997  104.330002  106.379997   \n",
              "2019-01-31  2019-01-31  103.800003  105.220001  103.180000  104.430000   \n",
              "\n",
              "             Adj Close    Volume  \n",
              "Date                              \n",
              "2019-01-25  107.169998  31225600  \n",
              "2019-01-28  105.080002  29476700  \n",
              "2019-01-29  102.940002  31490500  \n",
              "2019-01-30  106.379997  49471900  \n",
              "2019-01-31  104.430000  55636400  "
            ]
          },
          "execution_count": 6,
          "metadata": {},
          "output_type": "execute_result"
        }
      ],
      "source": [
        "stock.tail()"
      ]
    },
    {
      "cell_type": "markdown",
      "metadata": {},
      "source": [
        "La classe <tt>StockPrices</tt> contient un objet <a href=\"http://pandas.pydata.org/pandas-docs/version/0.13.1/generated/pandas.DataFrame.html\">pandas.DataFrame</a> auquel on acc\u00e8de en \u00e9crivant <tt>stock.dataframe</tt> ou <tt>stock.df</tt> :"
      ]
    },
    {
      "cell_type": "code",
      "execution_count": 6,
      "metadata": {},
      "outputs": [
        {
          "data": {
            "text/plain": [
              "Index(['Date', 'Open', 'High', 'Low', 'Close', 'Adj Close', 'Volume'], dtype='object')"
            ]
          },
          "execution_count": 7,
          "metadata": {},
          "output_type": "execute_result"
        }
      ],
      "source": [
        "stock.dataframe.columns"
      ]
    },
    {
      "cell_type": "markdown",
      "metadata": {},
      "source": [
        "De la m\u00eame mani\u00e8re, on peut cr\u00e9er un objet <tt>StockPrices</tt> \u00e0 partir d'un DataFrame :"
      ]
    },
    {
      "cell_type": "code",
      "execution_count": 7,
      "metadata": {},
      "outputs": [
        {
          "data": {
            "text/html": [
              "<div>\n",
              "<style scoped>\n",
              "    .dataframe tbody tr th:only-of-type {\n",
              "        vertical-align: middle;\n",
              "    }\n",
              "\n",
              "    .dataframe tbody tr th {\n",
              "        vertical-align: top;\n",
              "    }\n",
              "\n",
              "    .dataframe thead th {\n",
              "        text-align: right;\n",
              "    }\n",
              "</style>\n",
              "<table border=\"1\" class=\"dataframe\">\n",
              "  <thead>\n",
              "    <tr style=\"text-align: right;\">\n",
              "      <th></th>\n",
              "      <th>Close</th>\n",
              "      <th>Date</th>\n",
              "    </tr>\n",
              "    <tr>\n",
              "      <th>Date</th>\n",
              "      <th></th>\n",
              "      <th></th>\n",
              "    </tr>\n",
              "  </thead>\n",
              "  <tbody>\n",
              "    <tr>\n",
              "      <th>2014-04-01</th>\n",
              "      <td>105.6</td>\n",
              "      <td>2014-04-01</td>\n",
              "    </tr>\n",
              "    <tr>\n",
              "      <th>2014-04-02</th>\n",
              "      <td>104.6</td>\n",
              "      <td>2014-04-02</td>\n",
              "    </tr>\n",
              "    <tr>\n",
              "      <th>2014-04-03</th>\n",
              "      <td>105.8</td>\n",
              "      <td>2014-04-03</td>\n",
              "    </tr>\n",
              "  </tbody>\n",
              "</table>\n",
              "</div>"
            ],
            "text/plain": [
              "            Close        Date\n",
              "Date                         \n",
              "2014-04-01  105.6  2014-04-01\n",
              "2014-04-02  104.6  2014-04-02\n",
              "2014-04-03  105.8  2014-04-03"
            ]
          },
          "execution_count": 8,
          "metadata": {},
          "output_type": "execute_result"
        }
      ],
      "source": [
        "import pandas\n",
        "data = [{\"Date\":\"2014-04-01\", \"Close\":105.6}, {\"Date\":\"2014-04-02\", \"Close\":104.6}, \n",
        "        {\"Date\":\"2014-04-03\", \"Close\":105.8}, ]\n",
        "df = pandas.DataFrame(data)\n",
        "stock = StockPrices(\"donnees\",df)\n",
        "stock.head()"
      ]
    },
    {
      "cell_type": "markdown",
      "metadata": {},
      "source": [
        "### Quelques graphes"
      ]
    },
    {
      "cell_type": "markdown",
      "metadata": {},
      "source": [
        "Premier dessin, on t\u00e9l\u00e9charge les donn\u00e9es de BNP puis on dessine le cours de l'action."
      ]
    },
    {
      "cell_type": "code",
      "execution_count": 8,
      "metadata": {},
      "outputs": [
        {
          "data": {
            "image/png": "[encoded data removed]",
            "text/plain": [
              "<Figure size 864x432 with 1 Axes>"
            ]
          },
          "metadata": {
            "needs_background": "light"
          },
          "output_type": "display_data"
        }
      ],
      "source": [
        "import datetime\n",
        "stock = StockPrices(tick, folder=cache, url=source)\n",
        "ax = StockPrices.draw(stock, figsize=(12,6))"
      ]
    },
    {
      "cell_type": "code",
      "execution_count": 9,
      "metadata": {},
      "outputs": [
        {
          "data": {
            "image/png": "[encoded data removed]",
            "text/plain": [
              "<Figure size 864x432 with 1 Axes>"
            ]
          },
          "metadata": {
            "needs_background": "light"
          },
          "output_type": "display_data"
        }
      ],
      "source": [
        "stock = StockPrices(tick, folder=cache, url=source)\n",
        "StockPrices.draw(stock, figsize=(12,6));"
      ]
    },
    {
      "cell_type": "markdown",
      "metadata": {},
      "source": [
        "La m\u00eame chose se produit sur une autre s\u00e9rie financi\u00e8re mais pas \u00e0 la m\u00eame date. On trace maintenant la s\u00e9rie *Open* (*Adj Close* d\u00e9fini\n",
        "sur cette page [View and download historical price, dividend, or split data](https://help.yahoo.com/kb/finance/historical-prices-sln2311.html?impressions=true) n'est disponible qu'avec Yahoo)."
      ]
    },
    {
      "cell_type": "code",
      "execution_count": 10,
      "metadata": {},
      "outputs": [
        {
          "data": {
            "image/png": "[encoded data removed]",
            "text/plain": [
              "<Figure size 864x432 with 1 Axes>"
            ]
          },
          "metadata": {
            "needs_background": "light"
          },
          "output_type": "display_data"
        }
      ],
      "source": [
        "stock = StockPrices(\"MSFT\", folder=cache, url='yahoo')\n",
        "StockPrices.draw(stock, field=[\"Open\", \"Close\"], figsize=(12,6));"
      ]
    },
    {
      "cell_type": "markdown",
      "metadata": {},
      "source": [
        "Ce type de s\u00e9rie ne fait pas toujours appara\u00eetre les saut de prix qui survient comme par exemple le <a href=\"http://invest.bnpparibas.com/fr/pid5900/en-bref.html\">20 f\u00e9vrier 2002</a> lorsque le cours nominal de l'action de la BNP a \u00e9t\u00e9 divis\u00e9 par deux pour augmenter la liquidit\u00e9. Le nombre d'actions a \u00e9t\u00e9 multipli\u00e9 par deux. Les donn\u00e9es sont le plus souvent corrig\u00e9es [BNP f\u00e9vrier 2002](http://www.google.com/finance/historical?cid=667923&startdate=Feb+15%2C+2002&enddate=Feb+28%2C+2002&num=30&ei=AP8hWaDXF4WNUNuujYgK)."
      ]
    },
    {
      "cell_type": "markdown",
      "metadata": {},
      "source": [
        "### Ajouter une seconde s\u00e9rie sur un graphe"
      ]
    },
    {
      "cell_type": "markdown",
      "metadata": {},
      "source": [
        "Dans l'exemple suivant, on trace une s\u00e9rie financi\u00e8re puis on ajoute la s\u00e9rie des rendements sur un second axe."
      ]
    },
    {
      "cell_type": "code",
      "execution_count": 11,
      "metadata": {},
      "outputs": [
        {
          "data": {
            "text/html": [
              "<div>\n",
              "<style scoped>\n",
              "    .dataframe tbody tr th:only-of-type {\n",
              "        vertical-align: middle;\n",
              "    }\n",
              "\n",
              "    .dataframe tbody tr th {\n",
              "        vertical-align: top;\n",
              "    }\n",
              "\n",
              "    .dataframe thead th {\n",
              "        text-align: right;\n",
              "    }\n",
              "</style>\n",
              "<table border=\"1\" class=\"dataframe\">\n",
              "  <thead>\n",
              "    <tr style=\"text-align: right;\">\n",
              "      <th></th>\n",
              "      <th>Date</th>\n",
              "      <th>Open</th>\n",
              "      <th>High</th>\n",
              "      <th>Low</th>\n",
              "      <th>Close</th>\n",
              "      <th>Adj Close</th>\n",
              "      <th>Volume</th>\n",
              "    </tr>\n",
              "    <tr>\n",
              "      <th>Date</th>\n",
              "      <th></th>\n",
              "      <th></th>\n",
              "      <th></th>\n",
              "      <th></th>\n",
              "      <th></th>\n",
              "      <th></th>\n",
              "      <th></th>\n",
              "    </tr>\n",
              "  </thead>\n",
              "  <tbody>\n",
              "    <tr>\n",
              "      <th>2000-01-03</th>\n",
              "      <td>2000-01-03</td>\n",
              "      <td>58.68750</td>\n",
              "      <td>59.3125</td>\n",
              "      <td>56.00000</td>\n",
              "      <td>58.28125</td>\n",
              "      <td>42.295185</td>\n",
              "      <td>53228400</td>\n",
              "    </tr>\n",
              "    <tr>\n",
              "      <th>2000-01-04</th>\n",
              "      <td>2000-01-04</td>\n",
              "      <td>56.78125</td>\n",
              "      <td>58.5625</td>\n",
              "      <td>56.12500</td>\n",
              "      <td>56.31250</td>\n",
              "      <td>40.866425</td>\n",
              "      <td>54119000</td>\n",
              "    </tr>\n",
              "    <tr>\n",
              "      <th>2000-01-05</th>\n",
              "      <td>2000-01-05</td>\n",
              "      <td>55.56250</td>\n",
              "      <td>58.1875</td>\n",
              "      <td>54.68750</td>\n",
              "      <td>56.90625</td>\n",
              "      <td>41.297348</td>\n",
              "      <td>64059600</td>\n",
              "    </tr>\n",
              "    <tr>\n",
              "      <th>2000-01-06</th>\n",
              "      <td>2000-01-06</td>\n",
              "      <td>56.09375</td>\n",
              "      <td>56.9375</td>\n",
              "      <td>54.18750</td>\n",
              "      <td>55.00000</td>\n",
              "      <td>39.913952</td>\n",
              "      <td>54976600</td>\n",
              "    </tr>\n",
              "    <tr>\n",
              "      <th>2000-01-07</th>\n",
              "      <td>2000-01-07</td>\n",
              "      <td>54.31250</td>\n",
              "      <td>56.1250</td>\n",
              "      <td>53.65625</td>\n",
              "      <td>55.71875</td>\n",
              "      <td>40.435547</td>\n",
              "      <td>62013600</td>\n",
              "    </tr>\n",
              "  </tbody>\n",
              "</table>\n",
              "</div>"
            ],
            "text/plain": [
              "                  Date      Open     High       Low     Close  Adj Close  \\\n",
              "Date                                                                       \n",
              "2000-01-03  2000-01-03  58.68750  59.3125  56.00000  58.28125  42.295185   \n",
              "2000-01-04  2000-01-04  56.78125  58.5625  56.12500  56.31250  40.866425   \n",
              "2000-01-05  2000-01-05  55.56250  58.1875  54.68750  56.90625  41.297348   \n",
              "2000-01-06  2000-01-06  56.09375  56.9375  54.18750  55.00000  39.913952   \n",
              "2000-01-07  2000-01-07  54.31250  56.1250  53.65625  55.71875  40.435547   \n",
              "\n",
              "              Volume  \n",
              "Date                  \n",
              "2000-01-03  53228400  \n",
              "2000-01-04  54119000  \n",
              "2000-01-05  64059600  \n",
              "2000-01-06  54976600  \n",
              "2000-01-07  62013600  "
            ]
          },
          "execution_count": 12,
          "metadata": {},
          "output_type": "execute_result"
        }
      ],
      "source": [
        "stock.head()"
      ]
    },
    {
      "cell_type": "code",
      "execution_count": 12,
      "metadata": {
        "scrolled": false
      },
      "outputs": [
        {
          "data": {
            "image/png": "[encoded data removed]",
            "text/plain": [
              "<Figure size 1152x360 with 2 Axes>"
            ]
          },
          "metadata": {
            "needs_background": "light"
          },
          "output_type": "display_data"
        }
      ],
      "source": [
        "stock = StockPrices(tick)\n",
        "ret = stock.returns()[\"2019-01-04\":\"2019-02-02\"]\n",
        "ret.dataframe.loc[\"2019-01-11\":\"2019-01-18\",\"Close\"] = 0  # on annule certains valeurs\n",
        "ax = stock.plot(figsize=(16, 5))\n",
        "ret.plot(axis=2, ax=ax, label_prefix=\"r\", color='blue');"
      ]
    },
    {
      "cell_type": "markdown",
      "metadata": {},
      "source": [
        "### Quelques op\u00e9rations"
      ]
    },
    {
      "cell_type": "code",
      "execution_count": 13,
      "metadata": {},
      "outputs": [
        {
          "data": {
            "text/plain": [
              "['GOOGL.2000-01-03.2018-03-15.txt',\n",
              " 'GOOGL.2000-01-03.2018-05-13.txt',\n",
              " 'GOOGL.2000-01-03.2019-02-01.txt',\n",
              " 'MSFT.2000-01-03.2018-03-15.txt',\n",
              " 'MSFT.2000-01-03.2018-05-13.txt',\n",
              " 'MSFT.2000-01-03.2019-02-01.txt']"
            ]
          },
          "execution_count": 14,
          "metadata": {},
          "output_type": "execute_result"
        }
      ],
      "source": [
        "os.listdir(cache)"
      ]
    },
    {
      "cell_type": "markdown",
      "metadata": {},
      "source": [
        "On affiche les derni\u00e8res lignes."
      ]
    },
    {
      "cell_type": "code",
      "execution_count": 14,
      "metadata": {},
      "outputs": [
        {
          "data": {
            "text/html": [
              "<div>\n",
              "<style scoped>\n",
              "    .dataframe tbody tr th:only-of-type {\n",
              "        vertical-align: middle;\n",
              "    }\n",
              "\n",
              "    .dataframe tbody tr th {\n",
              "        vertical-align: top;\n",
              "    }\n",
              "\n",
              "    .dataframe thead th {\n",
              "        text-align: right;\n",
              "    }\n",
              "</style>\n",
              "<table border=\"1\" class=\"dataframe\">\n",
              "  <thead>\n",
              "    <tr style=\"text-align: right;\">\n",
              "      <th></th>\n",
              "      <th>Date</th>\n",
              "      <th>Open</th>\n",
              "      <th>High</th>\n",
              "      <th>Low</th>\n",
              "      <th>Close</th>\n",
              "      <th>Adj Close</th>\n",
              "      <th>Volume</th>\n",
              "    </tr>\n",
              "    <tr>\n",
              "      <th>Date</th>\n",
              "      <th></th>\n",
              "      <th></th>\n",
              "      <th></th>\n",
              "      <th></th>\n",
              "      <th></th>\n",
              "      <th></th>\n",
              "      <th></th>\n",
              "    </tr>\n",
              "  </thead>\n",
              "  <tbody>\n",
              "    <tr>\n",
              "      <th>2019-01-25</th>\n",
              "      <td>2019-01-25</td>\n",
              "      <td>107.239998</td>\n",
              "      <td>107.879997</td>\n",
              "      <td>106.199997</td>\n",
              "      <td>107.169998</td>\n",
              "      <td>107.169998</td>\n",
              "      <td>31225600</td>\n",
              "    </tr>\n",
              "    <tr>\n",
              "      <th>2019-01-28</th>\n",
              "      <td>2019-01-28</td>\n",
              "      <td>106.260002</td>\n",
              "      <td>106.480003</td>\n",
              "      <td>104.660004</td>\n",
              "      <td>105.080002</td>\n",
              "      <td>105.080002</td>\n",
              "      <td>29476700</td>\n",
              "    </tr>\n",
              "    <tr>\n",
              "      <th>2019-01-29</th>\n",
              "      <td>2019-01-29</td>\n",
              "      <td>104.879997</td>\n",
              "      <td>104.970001</td>\n",
              "      <td>102.169998</td>\n",
              "      <td>102.940002</td>\n",
              "      <td>102.940002</td>\n",
              "      <td>31490500</td>\n",
              "    </tr>\n",
              "    <tr>\n",
              "      <th>2019-01-30</th>\n",
              "      <td>2019-01-30</td>\n",
              "      <td>104.620003</td>\n",
              "      <td>106.379997</td>\n",
              "      <td>104.330002</td>\n",
              "      <td>106.379997</td>\n",
              "      <td>106.379997</td>\n",
              "      <td>49471900</td>\n",
              "    </tr>\n",
              "    <tr>\n",
              "      <th>2019-01-31</th>\n",
              "      <td>2019-01-31</td>\n",
              "      <td>103.800003</td>\n",
              "      <td>105.220001</td>\n",
              "      <td>103.180000</td>\n",
              "      <td>104.430000</td>\n",
              "      <td>104.430000</td>\n",
              "      <td>55636400</td>\n",
              "    </tr>\n",
              "  </tbody>\n",
              "</table>\n",
              "</div>"
            ],
            "text/plain": [
              "                  Date        Open        High         Low       Close  \\\n",
              "Date                                                                     \n",
              "2019-01-25  2019-01-25  107.239998  107.879997  106.199997  107.169998   \n",
              "2019-01-28  2019-01-28  106.260002  106.480003  104.660004  105.080002   \n",
              "2019-01-29  2019-01-29  104.879997  104.970001  102.169998  102.940002   \n",
              "2019-01-30  2019-01-30  104.620003  106.379997  104.330002  106.379997   \n",
              "2019-01-31  2019-01-31  103.800003  105.220001  103.180000  104.430000   \n",
              "\n",
              "             Adj Close    Volume  \n",
              "Date                              \n",
              "2019-01-25  107.169998  31225600  \n",
              "2019-01-28  105.080002  29476700  \n",
              "2019-01-29  102.940002  31490500  \n",
              "2019-01-30  106.379997  49471900  \n",
              "2019-01-31  104.430000  55636400  "
            ]
          },
          "execution_count": 15,
          "metadata": {},
          "output_type": "execute_result"
        }
      ],
      "source": [
        "stock.tail()"
      ]
    },
    {
      "cell_type": "markdown",
      "metadata": {},
      "source": [
        "On r\u00e9cup\u00e8re la s\u00e9rie des rendements."
      ]
    },
    {
      "cell_type": "code",
      "execution_count": 15,
      "metadata": {},
      "outputs": [
        {
          "data": {
            "text/html": [
              "<div>\n",
              "<style scoped>\n",
              "    .dataframe tbody tr th:only-of-type {\n",
              "        vertical-align: middle;\n",
              "    }\n",
              "\n",
              "    .dataframe tbody tr th {\n",
              "        vertical-align: top;\n",
              "    }\n",
              "\n",
              "    .dataframe thead th {\n",
              "        text-align: right;\n",
              "    }\n",
              "</style>\n",
              "<table border=\"1\" class=\"dataframe\">\n",
              "  <thead>\n",
              "    <tr style=\"text-align: right;\">\n",
              "      <th></th>\n",
              "      <th>Date</th>\n",
              "      <th>Volume</th>\n",
              "      <th>Open</th>\n",
              "      <th>High</th>\n",
              "      <th>Low</th>\n",
              "      <th>Close</th>\n",
              "      <th>Adj Close</th>\n",
              "    </tr>\n",
              "    <tr>\n",
              "      <th>Date</th>\n",
              "      <th></th>\n",
              "      <th></th>\n",
              "      <th></th>\n",
              "      <th></th>\n",
              "      <th></th>\n",
              "      <th></th>\n",
              "      <th></th>\n",
              "    </tr>\n",
              "  </thead>\n",
              "  <tbody>\n",
              "    <tr>\n",
              "      <th>2019-01-25</th>\n",
              "      <td>2019-01-25</td>\n",
              "      <td>31225600</td>\n",
              "      <td>0.003556</td>\n",
              "      <td>0.008224</td>\n",
              "      <td>0.008164</td>\n",
              "      <td>0.009134</td>\n",
              "      <td>0.009134</td>\n",
              "    </tr>\n",
              "    <tr>\n",
              "      <th>2019-01-28</th>\n",
              "      <td>2019-01-28</td>\n",
              "      <td>29476700</td>\n",
              "      <td>-0.009138</td>\n",
              "      <td>-0.012977</td>\n",
              "      <td>-0.014501</td>\n",
              "      <td>-0.019502</td>\n",
              "      <td>-0.019502</td>\n",
              "    </tr>\n",
              "    <tr>\n",
              "      <th>2019-01-29</th>\n",
              "      <td>2019-01-29</td>\n",
              "      <td>31490500</td>\n",
              "      <td>-0.012987</td>\n",
              "      <td>-0.014181</td>\n",
              "      <td>-0.023791</td>\n",
              "      <td>-0.020365</td>\n",
              "      <td>-0.020365</td>\n",
              "    </tr>\n",
              "    <tr>\n",
              "      <th>2019-01-30</th>\n",
              "      <td>2019-01-30</td>\n",
              "      <td>49471900</td>\n",
              "      <td>-0.002479</td>\n",
              "      <td>0.013432</td>\n",
              "      <td>0.021141</td>\n",
              "      <td>0.033417</td>\n",
              "      <td>0.033417</td>\n",
              "    </tr>\n",
              "    <tr>\n",
              "      <th>2019-01-31</th>\n",
              "      <td>2019-01-31</td>\n",
              "      <td>55636400</td>\n",
              "      <td>-0.007838</td>\n",
              "      <td>-0.010904</td>\n",
              "      <td>-0.011023</td>\n",
              "      <td>-0.018330</td>\n",
              "      <td>-0.018330</td>\n",
              "    </tr>\n",
              "  </tbody>\n",
              "</table>\n",
              "</div>"
            ],
            "text/plain": [
              "                  Date    Volume      Open      High       Low     Close  \\\n",
              "Date                                                                       \n",
              "2019-01-25  2019-01-25  31225600  0.003556  0.008224  0.008164  0.009134   \n",
              "2019-01-28  2019-01-28  29476700 -0.009138 -0.012977 -0.014501 -0.019502   \n",
              "2019-01-29  2019-01-29  31490500 -0.012987 -0.014181 -0.023791 -0.020365   \n",
              "2019-01-30  2019-01-30  49471900 -0.002479  0.013432  0.021141  0.033417   \n",
              "2019-01-31  2019-01-31  55636400 -0.007838 -0.010904 -0.011023 -0.018330   \n",
              "\n",
              "            Adj Close  \n",
              "Date                   \n",
              "2019-01-25   0.009134  \n",
              "2019-01-28  -0.019502  \n",
              "2019-01-29  -0.020365  \n",
              "2019-01-30   0.033417  \n",
              "2019-01-31  -0.018330  "
            ]
          },
          "execution_count": 16,
          "metadata": {},
          "output_type": "execute_result"
        }
      ],
      "source": [
        "ret = stock.returns()\n",
        "ret.tail()"
      ]
    },
    {
      "cell_type": "markdown",
      "metadata": {},
      "source": [
        "On trace la s\u00e9rie des rendements pour les derniers mois."
      ]
    },
    {
      "cell_type": "code",
      "execution_count": 16,
      "metadata": {},
      "outputs": [
        {
          "data": {
            "image/png": "[encoded data removed]",
            "text/plain": [
              "<Figure size 864x432 with 1 Axes>"
            ]
          },
          "metadata": {
            "needs_background": "light"
          },
          "output_type": "display_data"
        }
      ],
      "source": [
        "StockPrices.draw(ret, figsize=(12,6), begin=\"2013-12-01\", date_format=\"%Y-%m\");"
      ]
    },
    {
      "cell_type": "markdown",
      "metadata": {},
      "source": [
        "### Quelques notions sur les dates"
      ]
    },
    {
      "cell_type": "markdown",
      "metadata": {},
      "source": [
        "La classe <i>StockPrices</i> utilise les dates sous forme de cha\u00eenes de caract\u00e8res. De cette fa\u00e7on, il n'est pas possible de faire des op\u00e9rations dessus. Pour ce faire, il faut les convertir en un objet appel\u00e9 <a href=\"https://docs.python.org/2/library/datetime.html\">datetime</a>."
      ]
    },
    {
      "cell_type": "code",
      "execution_count": 17,
      "metadata": {},
      "outputs": [
        {
          "data": {
            "text/plain": [
              "datetime.datetime(2014, 3, 31, 0, 0)"
            ]
          },
          "execution_count": 18,
          "metadata": {},
          "output_type": "execute_result"
        }
      ],
      "source": [
        "from datetime import datetime, timedelta\n",
        "dt = datetime.strptime(\"2014-03-31\",\"%Y-%m-%d\")\n",
        "dt"
      ]
    },
    {
      "cell_type": "markdown",
      "metadata": {},
      "source": [
        "On ajoute un jour :"
      ]
    },
    {
      "cell_type": "code",
      "execution_count": 18,
      "metadata": {},
      "outputs": [
        {
          "data": {
            "text/plain": [
              "datetime.datetime(2014, 4, 1, 0, 0)"
            ]
          },
          "execution_count": 19,
          "metadata": {},
          "output_type": "execute_result"
        }
      ],
      "source": [
        "delta = timedelta(1)\n",
        "dt = dt + delta\n",
        "dt"
      ]
    },
    {
      "cell_type": "markdown",
      "metadata": {},
      "source": [
        "Puis on convertit dans l'autre sens :"
      ]
    },
    {
      "cell_type": "code",
      "execution_count": 19,
      "metadata": {},
      "outputs": [
        {
          "data": {
            "text/plain": [
              "'2014-04-01'"
            ]
          },
          "execution_count": 20,
          "metadata": {},
          "output_type": "execute_result"
        }
      ],
      "source": [
        "s = dt.strftime(\"%Y-%m-%d\")\n",
        "s"
      ]
    },
    {
      "cell_type": "markdown",
      "metadata": {},
      "source": [
        "### Promenade dans l'index"
      ]
    },
    {
      "cell_type": "markdown",
      "metadata": {},
      "source": [
        "Il est facile de r\u00e9cup\u00e9rer les valeurs correspondant \u00e0 une date pr\u00e9cise. Mais comment r\u00e9cup\u00e9rer la valeur du jour d'apr\u00e8s ?"
      ]
    },
    {
      "cell_type": "code",
      "execution_count": 20,
      "metadata": {},
      "outputs": [
        {
          "name": "stdout",
          "output_type": "stream",
          "text": [
            "A                   Date        Open        High        Low      Close  \\\n",
            "Date                                                                   \n",
            "2005-01-04  2005-01-04  100.800804  101.566566  96.836838  97.347351   \n",
            "2005-01-05  2005-01-05   96.821823   98.548546  96.211212  96.851852   \n",
            "2005-01-06  2005-01-06   97.637634   98.048050  93.953957  94.369370   \n",
            "\n",
            "            Adj Close    Volume  \n",
            "Date                             \n",
            "2005-01-04  97.347351  27484200  \n",
            "2005-01-05  96.851852  16456700  \n",
            "2005-01-06  94.369370  20753400  \n",
            "D 97.347351\n",
            "G 97\n"
          ]
        }
      ],
      "source": [
        "tick2 = 'GOOGL'\n",
        "stock = StockPrices(tick2, folder=cache, url=source)\n",
        "df = stock.dataframe\n",
        "print(\"A\", df[\"2005-01-04\":\"2005-01-06\"])\n",
        "print(\"D\", df.loc[\"2005-01-04\",\"Close\"])\n",
        "print(\"G\", df.index.get_loc(\"2005-01-06\"))  # retourne la position de cette date"
      ]
    },
    {
      "cell_type": "markdown",
      "metadata": {},
      "source": [
        "### Sauver les tables"
      ]
    },
    {
      "cell_type": "markdown",
      "metadata": {},
      "source": [
        "On peut conserver les donn\u00e9es sous forme de fichiers pour les r\u00e9cup\u00e9rer plus tard."
      ]
    },
    {
      "cell_type": "code",
      "execution_count": 21,
      "metadata": {},
      "outputs": [
        {
          "data": {
            "text/plain": [
              "['donnees.txt']"
            ]
          },
          "execution_count": 22,
          "metadata": {},
          "output_type": "execute_result"
        }
      ],
      "source": [
        "stock = StockPrices(tick2, folder=cache, url=source)\n",
        "stock.dataframe.to_csv(\"donnees.txt\", sep=\"\\t\")\n",
        "[_ for _ in os.listdir(\".\") if \"donnees\" in _]"
      ]
    },
    {
      "cell_type": "markdown",
      "metadata": {},
      "source": [
        "Le fichier est sauv\u00e9. Pour le r\u00e9cup\u00e9rer avec pandas :"
      ]
    },
    {
      "cell_type": "code",
      "execution_count": 22,
      "metadata": {},
      "outputs": [
        {
          "data": {
            "text/html": [
              "<div>\n",
              "<style scoped>\n",
              "    .dataframe tbody tr th:only-of-type {\n",
              "        vertical-align: middle;\n",
              "    }\n",
              "\n",
              "    .dataframe tbody tr th {\n",
              "        vertical-align: top;\n",
              "    }\n",
              "\n",
              "    .dataframe thead th {\n",
              "        text-align: right;\n",
              "    }\n",
              "</style>\n",
              "<table border=\"1\" class=\"dataframe\">\n",
              "  <thead>\n",
              "    <tr style=\"text-align: right;\">\n",
              "      <th></th>\n",
              "      <th>Date</th>\n",
              "      <th>Date.1</th>\n",
              "      <th>Open</th>\n",
              "      <th>High</th>\n",
              "      <th>Low</th>\n",
              "      <th>Close</th>\n",
              "      <th>Adj Close</th>\n",
              "      <th>Volume</th>\n",
              "    </tr>\n",
              "  </thead>\n",
              "  <tbody>\n",
              "    <tr>\n",
              "      <th>0</th>\n",
              "      <td>2004-08-19</td>\n",
              "      <td>2004-08-19</td>\n",
              "      <td>50.050049</td>\n",
              "      <td>52.082081</td>\n",
              "      <td>48.028027</td>\n",
              "      <td>50.220219</td>\n",
              "      <td>50.220219</td>\n",
              "      <td>44659000</td>\n",
              "    </tr>\n",
              "    <tr>\n",
              "      <th>1</th>\n",
              "      <td>2004-08-20</td>\n",
              "      <td>2004-08-20</td>\n",
              "      <td>50.555557</td>\n",
              "      <td>54.594593</td>\n",
              "      <td>50.300301</td>\n",
              "      <td>54.209209</td>\n",
              "      <td>54.209209</td>\n",
              "      <td>22834300</td>\n",
              "    </tr>\n",
              "    <tr>\n",
              "      <th>2</th>\n",
              "      <td>2004-08-23</td>\n",
              "      <td>2004-08-23</td>\n",
              "      <td>55.430431</td>\n",
              "      <td>56.796795</td>\n",
              "      <td>54.579578</td>\n",
              "      <td>54.754753</td>\n",
              "      <td>54.754753</td>\n",
              "      <td>18256100</td>\n",
              "    </tr>\n",
              "    <tr>\n",
              "      <th>3</th>\n",
              "      <td>2004-08-24</td>\n",
              "      <td>2004-08-24</td>\n",
              "      <td>55.675674</td>\n",
              "      <td>55.855854</td>\n",
              "      <td>51.836838</td>\n",
              "      <td>52.487488</td>\n",
              "      <td>52.487488</td>\n",
              "      <td>15247300</td>\n",
              "    </tr>\n",
              "    <tr>\n",
              "      <th>4</th>\n",
              "      <td>2004-08-25</td>\n",
              "      <td>2004-08-25</td>\n",
              "      <td>52.532532</td>\n",
              "      <td>54.054054</td>\n",
              "      <td>51.991993</td>\n",
              "      <td>53.053055</td>\n",
              "      <td>53.053055</td>\n",
              "      <td>9188600</td>\n",
              "    </tr>\n",
              "  </tbody>\n",
              "</table>\n",
              "</div>"
            ],
            "text/plain": [
              "         Date      Date.1       Open       High        Low      Close  \\\n",
              "0  2004-08-19  2004-08-19  50.050049  52.082081  48.028027  50.220219   \n",
              "1  2004-08-20  2004-08-20  50.555557  54.594593  50.300301  54.209209   \n",
              "2  2004-08-23  2004-08-23  55.430431  56.796795  54.579578  54.754753   \n",
              "3  2004-08-24  2004-08-24  55.675674  55.855854  51.836838  52.487488   \n",
              "4  2004-08-25  2004-08-25  52.532532  54.054054  51.991993  53.053055   \n",
              "\n",
              "   Adj Close    Volume  \n",
              "0  50.220219  44659000  \n",
              "1  54.209209  22834300  \n",
              "2  54.754753  18256100  \n",
              "3  52.487488  15247300  \n",
              "4  53.053055   9188600  "
            ]
          },
          "execution_count": 23,
          "metadata": {},
          "output_type": "execute_result"
        }
      ],
      "source": [
        "import pandas\n",
        "df = pandas.read_csv(\"donnees.txt\", sep=\"\\t\")\n",
        "df.head()"
      ]
    },
    {
      "cell_type": "markdown",
      "metadata": {},
      "source": [
        "Les dates apparaissent deux fois."
      ]
    },
    {
      "cell_type": "code",
      "execution_count": 23,
      "metadata": {},
      "outputs": [
        {
          "name": "stdout",
          "output_type": "stream",
          "text": [
            "Date\tDate\tOpen\tHigh\tLow\tClose\tAdj Close\tVolume\n",
            "2004-08-19\t2004-08-19\t50.050049\t52.082081\t48.028027\t50.220219\t50.220219\t44659000\n",
            "2004-08-20\t2004-08-20\t50.555557\t54.594593\t50.300301\t54.209209\t54.209209\t22834300\n",
            "2004-08-23\t2004-08-23\t55.43043100000001\t56.796795\t54.57957800000001\t54.754753\t54.754753\t18256100\n",
            "2004-08-24\t2004-08-24\t55.675674\t55.855854\t51.836838\t52.487488\t52.487488\t15247300\n",
            "2004-08-25\t20\n"
          ]
        }
      ],
      "source": [
        "with open(\"donnees.txt\",\"r\") as f: \n",
        "    text = f.read()\n",
        "print(text[:400])"
      ]
    },
    {
      "cell_type": "markdown",
      "metadata": {},
      "source": [
        "Cela est d\u00fb au fait que les dates sont \u00e0 la fois une colonne et servent d'index. Pour \u00e9viter de les conserver deux fois, on demande explicitement \u00e0 ce que l'index ne soit pas ajout\u00e9 au fichier : "
      ]
    },
    {
      "cell_type": "code",
      "execution_count": 24,
      "metadata": {},
      "outputs": [],
      "source": [
        "stock = StockPrices(tick2, folder=cache, url=source)\n",
        "stock.dataframe.to_csv(\"donnees.txt\", sep=\"\\t\", index=False)"
      ]
    },
    {
      "cell_type": "markdown",
      "metadata": {},
      "source": [
        "Puis on r\u00e9cup\u00e8re les donn\u00e9es :"
      ]
    },
    {
      "cell_type": "code",
      "execution_count": 25,
      "metadata": {},
      "outputs": [
        {
          "data": {
            "text/html": [
              "<div>\n",
              "<style scoped>\n",
              "    .dataframe tbody tr th:only-of-type {\n",
              "        vertical-align: middle;\n",
              "    }\n",
              "\n",
              "    .dataframe tbody tr th {\n",
              "        vertical-align: top;\n",
              "    }\n",
              "\n",
              "    .dataframe thead th {\n",
              "        text-align: right;\n",
              "    }\n",
              "</style>\n",
              "<table border=\"1\" class=\"dataframe\">\n",
              "  <thead>\n",
              "    <tr style=\"text-align: right;\">\n",
              "      <th></th>\n",
              "      <th>Date</th>\n",
              "      <th>Open</th>\n",
              "      <th>High</th>\n",
              "      <th>Low</th>\n",
              "      <th>Close</th>\n",
              "      <th>Adj Close</th>\n",
              "      <th>Volume</th>\n",
              "    </tr>\n",
              "  </thead>\n",
              "  <tbody>\n",
              "    <tr>\n",
              "      <th>0</th>\n",
              "      <td>2004-08-19</td>\n",
              "      <td>50.050049</td>\n",
              "      <td>52.082081</td>\n",
              "      <td>48.028027</td>\n",
              "      <td>50.220219</td>\n",
              "      <td>50.220219</td>\n",
              "      <td>44659000</td>\n",
              "    </tr>\n",
              "    <tr>\n",
              "      <th>1</th>\n",
              "      <td>2004-08-20</td>\n",
              "      <td>50.555557</td>\n",
              "      <td>54.594593</td>\n",
              "      <td>50.300301</td>\n",
              "      <td>54.209209</td>\n",
              "      <td>54.209209</td>\n",
              "      <td>22834300</td>\n",
              "    </tr>\n",
              "    <tr>\n",
              "      <th>2</th>\n",
              "      <td>2004-08-23</td>\n",
              "      <td>55.430431</td>\n",
              "      <td>56.796795</td>\n",
              "      <td>54.579578</td>\n",
              "      <td>54.754753</td>\n",
              "      <td>54.754753</td>\n",
              "      <td>18256100</td>\n",
              "    </tr>\n",
              "    <tr>\n",
              "      <th>3</th>\n",
              "      <td>2004-08-24</td>\n",
              "      <td>55.675674</td>\n",
              "      <td>55.855854</td>\n",
              "      <td>51.836838</td>\n",
              "      <td>52.487488</td>\n",
              "      <td>52.487488</td>\n",
              "      <td>15247300</td>\n",
              "    </tr>\n",
              "    <tr>\n",
              "      <th>4</th>\n",
              "      <td>2004-08-25</td>\n",
              "      <td>52.532532</td>\n",
              "      <td>54.054054</td>\n",
              "      <td>51.991993</td>\n",
              "      <td>53.053055</td>\n",
              "      <td>53.053055</td>\n",
              "      <td>9188600</td>\n",
              "    </tr>\n",
              "  </tbody>\n",
              "</table>\n",
              "</div>"
            ],
            "text/plain": [
              "         Date       Open       High        Low      Close  Adj Close    Volume\n",
              "0  2004-08-19  50.050049  52.082081  48.028027  50.220219  50.220219  44659000\n",
              "1  2004-08-20  50.555557  54.594593  50.300301  54.209209  54.209209  22834300\n",
              "2  2004-08-23  55.430431  56.796795  54.579578  54.754753  54.754753  18256100\n",
              "3  2004-08-24  55.675674  55.855854  51.836838  52.487488  52.487488  15247300\n",
              "4  2004-08-25  52.532532  54.054054  51.991993  53.053055  53.053055   9188600"
            ]
          },
          "execution_count": 26,
          "metadata": {},
          "output_type": "execute_result"
        }
      ],
      "source": [
        "df = pandas.read_csv(\"donnees.txt\",sep=\"\\t\")\n",
        "df.head()"
      ]
    },
    {
      "cell_type": "markdown",
      "metadata": {},
      "source": [
        "On v\u00e9rifie le fichier sur disque dur :"
      ]
    },
    {
      "cell_type": "code",
      "execution_count": 26,
      "metadata": {},
      "outputs": [
        {
          "name": "stdout",
          "output_type": "stream",
          "text": [
            "Date\tOpen\tHigh\tLow\tClose\tAdj Close\tVolume\n",
            "2004-08-19\t50.050049\t52.082081\t48.028027\t50.220219\t50.220219\t44659000\n",
            "2004-08-20\t50.555557\t54.594593\t50.300301\t54.209209\t54.209209\t22834300\n",
            "2004-08-23\t55.43043100000001\t56.796795\t54.57957800000001\t54.754753\t54.754753\t18256100\n",
            "2004-08-24\t55.675674\t55.855854\t51.836838\t52.487488\t52.487488\t15247300\n",
            "2004-08-25\t52.532532\t54.054054\t51.991993\t53.05305500000001\t53.\n"
          ]
        }
      ],
      "source": [
        "with open(\"donnees.txt\", \"r\") as f:\n",
        "    text = f.read()\n",
        "print(text[:400])"
      ]
    },
    {
      "cell_type": "markdown",
      "metadata": {},
      "source": [
        "C'est mieux."
      ]
    },
    {
      "cell_type": "code",
      "execution_count": 27,
      "metadata": {},
      "outputs": [],
      "source": []
    }
  ],
  "metadata": {
    "kernelspec": {
      "display_name": "Python 3",
      "language": "python",
      "name": "python3"
    },
    "language_info": {
      "codemirror_mode": {
        "name": "ipython",
        "version": 3
      },
      "file_extension": ".py",
      "mimetype": "text/x-python",
      "name": "python",
      "nbconvert_exporter": "python",
      "pygments_lexer": "ipython3",
      "version": "3.7.0"
    }
  },
  "nbformat": 4,
  "nbformat_minor": 1
}