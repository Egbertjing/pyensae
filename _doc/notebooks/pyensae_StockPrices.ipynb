{
  "cells": [
    {
      "cell_type": "markdown",
      "metadata": {},
      "source": [
        "# Manipulation de s\u00e9ries financi\u00e8res avec la classe StockPrices\n",
        "\n",
        "La classe [StockPrices](http://www.xavierdupre.fr/app/pyensae/helpsphinx/notebooks/pyensae%20StockPrices.html?highlight=stockprices) facilite la r\u00e9cup\u00e9ration de donn\u00e9es financi\u00e8res via diff\u00e9rents sites. Le site [Yahoo Finance](http://finance.yahoo.com/) requiet maintenant un cookie (depuis Mai 2017) et il est pr\u00e9f\u00e9rable de choisir [Google](https://www.google.com/finance?q=apple&ei=bPghWZnLDoKVULfBk-gC) ou [Quandl](https://www.quandl.com/tools/python). Google ne fonctionne que les march\u00e9s am\u00e9ricains, [Quandl](https://www.quandl.com/tools/python) a des historiques plus courts."
      ]
    },
    {
      "cell_type": "code",
      "execution_count": 1,
      "metadata": {},
      "outputs": [
        {
          "data": {
            "text/html": [
              "<div id=\"my_id_menu_nb\">run previous cell, wait for 2 seconds</div>\n",
              "<script>\n",
              "function repeat_indent_string(n){\n",
              "    var a = \"\" ;\n",
              "    for ( ; n > 0 ; --n)\n",
              "        a += \"    \";\n",
              "    return a;\n",
              "}\n",
              "var update_menu_string = function(begin, lfirst, llast, sformat, send, keep_item, begin_format, end_format) {\n",
              "    var anchors = document.getElementsByClassName(\"section\");\n",
              "    if (anchors.length == 0) {\n",
              "        anchors = document.getElementsByClassName(\"text_cell_render rendered_html\");\n",
              "    }\n",
              "    var i,t;\n",
              "    var text_menu = begin;\n",
              "    var text_memo = \"<pre>\\nlength:\" + anchors.length + \"\\n\";\n",
              "    var ind = \"\";\n",
              "    var memo_level = 1;\n",
              "    var href;\n",
              "    var tags = [];\n",
              "    var main_item = 0;\n",
              "    var format_open = 0;\n",
              "    for (i = 0; i <= llast; i++)\n",
              "        tags.push(\"h\" + i);\n",
              "\n",
              "    for (i = 0; i < anchors.length; i++) {\n",
              "        text_memo += \"**\" + anchors[i].id + \"--\\n\";\n",
              "\n",
              "        var child = null;\n",
              "        for(t = 0; t < tags.length; t++) {\n",
              "            var r = anchors[i].getElementsByTagName(tags[t]);\n",
              "            if (r.length > 0) {\n",
              "child = r[0];\n",
              "break;\n",
              "            }\n",
              "        }\n",
              "        if (child == null) {\n",
              "            text_memo += \"null\\n\";\n",
              "            continue;\n",
              "        }\n",
              "        if (anchors[i].hasAttribute(\"id\")) {\n",
              "            // when converted in RST\n",
              "            href = anchors[i].id;\n",
              "            text_memo += \"#1-\" + href;\n",
              "            // passer \u00e0 child suivant (le chercher)\n",
              "        }\n",
              "        else if (child.hasAttribute(\"id\")) {\n",
              "            // in a notebook\n",
              "            href = child.id;\n",
              "            text_memo += \"#2-\" + href;\n",
              "        }\n",
              "        else {\n",
              "            text_memo += \"#3-\" + \"*\" + \"\\n\";\n",
              "            continue;\n",
              "        }\n",
              "        var title = child.textContent;\n",
              "        var level = parseInt(child.tagName.substring(1,2));\n",
              "\n",
              "        text_memo += \"--\" + level + \"?\" + lfirst + \"--\" + title + \"\\n\";\n",
              "\n",
              "        if ((level < lfirst) || (level > llast)) {\n",
              "            continue ;\n",
              "        }\n",
              "        if (title.endsWith('\u00b6')) {\n",
              "            title = title.substring(0,title.length-1).replace(\"<\", \"&lt;\")\n",
              "         .replace(\">\", \"&gt;\").replace(\"&\", \"&amp;\");\n",
              "        }\n",
              "        if (title.length == 0) {\n",
              "            continue;\n",
              "        }\n",
              "\n",
              "        while (level < memo_level) {\n",
              "            text_menu += end_format + \"</ul>\\n\";\n",
              "            format_open -= 1;\n",
              "            memo_level -= 1;\n",
              "        }\n",
              "        if (level == lfirst) {\n",
              "            main_item += 1;\n",
              "        }\n",
              "        if (keep_item != -1 && main_item != keep_item + 1) {\n",
              "            // alert(main_item + \" - \" + level + \" - \" + keep_item);\n",
              "            continue;\n",
              "        }\n",
              "        while (level > memo_level) {\n",
              "            text_menu += \"<ul>\\n\";\n",
              "            memo_level += 1;\n",
              "        }\n",
              "        text_menu += repeat_indent_string(level-2);\n",
              "        text_menu += begin_format + sformat.replace(\"__HREF__\", href).replace(\"__TITLE__\", title);\n",
              "        format_open += 1;\n",
              "    }\n",
              "    while (1 < memo_level) {\n",
              "        text_menu += end_format + \"</ul>\\n\";\n",
              "        memo_level -= 1;\n",
              "        format_open -= 1;\n",
              "    }\n",
              "    text_menu += send;\n",
              "    //text_menu += \"\\n\" + text_memo;\n",
              "\n",
              "    while (format_open > 0) {\n",
              "        text_menu += end_format;\n",
              "        format_open -= 1;\n",
              "    }\n",
              "    return text_menu;\n",
              "};\n",
              "var update_menu = function() {\n",
              "    var sbegin = \"\";\n",
              "    var sformat = '<a href=\"#__HREF__\">__TITLE__</a>';\n",
              "    var send = \"\";\n",
              "    var begin_format = '<li>';\n",
              "    var end_format = '</li>';\n",
              "    var keep_item = -1;\n",
              "    var text_menu = update_menu_string(sbegin, 2, 4, sformat, send, keep_item,\n",
              "       begin_format, end_format);\n",
              "    var menu = document.getElementById(\"my_id_menu_nb\");\n",
              "    menu.innerHTML=text_menu;\n",
              "};\n",
              "window.setTimeout(update_menu,2000);\n",
              "            </script>"
            ],
            "text/plain": [
              "<IPython.core.display.HTML object>"
            ]
          },
          "execution_count": 2,
          "metadata": {},
          "output_type": "execute_result"
        }
      ],
      "source": [
        "import pyensae\n",
        "from jyquickhelper import add_notebook_menu\n",
        "add_notebook_menu()"
      ]
    },
    {
      "cell_type": "code",
      "execution_count": 2,
      "metadata": {},
      "outputs": [],
      "source": [
        "%matplotlib inline\n",
        "import matplotlib.pyplot as plt\n",
        "plt.style.use('ggplot')"
      ]
    },
    {
      "cell_type": "markdown",
      "metadata": {},
      "source": [
        "### Initialisation"
      ]
    },
    {
      "cell_type": "code",
      "execution_count": 3,
      "metadata": {},
      "outputs": [],
      "source": [
        "import pyensae\n",
        "import os\n",
        "from pyensae.finance import StockPrices\n",
        "cache = os.path.abspath(\"cache\")\n",
        "if not os.path.exists(cache) : os.mkdir(cache)"
      ]
    },
    {
      "cell_type": "markdown",
      "metadata": {},
      "source": [
        "### Cr\u00e9er un objet StockPrices"
      ]
    },
    {
      "cell_type": "markdown",
      "metadata": {},
      "source": [
        "Le plus est d'utiliser le tick de la s\u00e9rie financi\u00e8re utilis\u00e9 par le site [Yahoo Finance](https://fr.finance.yahoo.com) ou [Google Finance](https://www.google.com/search?q=finance) qui fait maintenant partie du moteur de recherche ou [quandl](https://www.quandl.com/tools/python)."
      ]
    },
    {
      "cell_type": "code",
      "execution_count": 4,
      "metadata": {},
      "outputs": [
        {
          "data": {
            "text/html": [
              "<div>\n",
              "<style scoped>\n",
              "    .dataframe tbody tr th:only-of-type {\n",
              "        vertical-align: middle;\n",
              "    }\n",
              "\n",
              "    .dataframe tbody tr th {\n",
              "        vertical-align: top;\n",
              "    }\n",
              "\n",
              "    .dataframe thead th {\n",
              "        text-align: right;\n",
              "    }\n",
              "</style>\n",
              "<table border=\"1\" class=\"dataframe\">\n",
              "  <thead>\n",
              "    <tr style=\"text-align: right;\">\n",
              "      <th></th>\n",
              "      <th>Date</th>\n",
              "      <th>Open</th>\n",
              "      <th>High</th>\n",
              "      <th>Low</th>\n",
              "      <th>Close</th>\n",
              "      <th>Adj Close</th>\n",
              "      <th>Volume</th>\n",
              "    </tr>\n",
              "    <tr>\n",
              "      <th>Date</th>\n",
              "      <th></th>\n",
              "      <th></th>\n",
              "      <th></th>\n",
              "      <th></th>\n",
              "      <th></th>\n",
              "      <th></th>\n",
              "      <th></th>\n",
              "    </tr>\n",
              "  </thead>\n",
              "  <tbody>\n",
              "    <tr>\n",
              "      <th>2000-01-03</th>\n",
              "      <td>2000-01-03</td>\n",
              "      <td>58.68750</td>\n",
              "      <td>59.3125</td>\n",
              "      <td>56.00000</td>\n",
              "      <td>58.28125</td>\n",
              "      <td>42.826191</td>\n",
              "      <td>53228400</td>\n",
              "    </tr>\n",
              "    <tr>\n",
              "      <th>2000-01-04</th>\n",
              "      <td>2000-01-04</td>\n",
              "      <td>56.78125</td>\n",
              "      <td>58.5625</td>\n",
              "      <td>56.12500</td>\n",
              "      <td>56.31250</td>\n",
              "      <td>41.379513</td>\n",
              "      <td>54119000</td>\n",
              "    </tr>\n",
              "    <tr>\n",
              "      <th>2000-01-05</th>\n",
              "      <td>2000-01-05</td>\n",
              "      <td>55.56250</td>\n",
              "      <td>58.1875</td>\n",
              "      <td>54.68750</td>\n",
              "      <td>56.90625</td>\n",
              "      <td>41.815826</td>\n",
              "      <td>64059600</td>\n",
              "    </tr>\n",
              "    <tr>\n",
              "      <th>2000-01-06</th>\n",
              "      <td>2000-01-06</td>\n",
              "      <td>56.09375</td>\n",
              "      <td>56.9375</td>\n",
              "      <td>54.18750</td>\n",
              "      <td>55.00000</td>\n",
              "      <td>40.415058</td>\n",
              "      <td>54976600</td>\n",
              "    </tr>\n",
              "    <tr>\n",
              "      <th>2000-01-07</th>\n",
              "      <td>2000-01-07</td>\n",
              "      <td>54.31250</td>\n",
              "      <td>56.1250</td>\n",
              "      <td>53.65625</td>\n",
              "      <td>55.71875</td>\n",
              "      <td>40.943214</td>\n",
              "      <td>62013600</td>\n",
              "    </tr>\n",
              "  </tbody>\n",
              "</table>\n",
              "</div>"
            ],
            "text/plain": [
              "                  Date      Open     High       Low     Close  Adj Close  \\\n",
              "Date                                                                       \n",
              "2000-01-03  2000-01-03  58.68750  59.3125  56.00000  58.28125  42.826191   \n",
              "2000-01-04  2000-01-04  56.78125  58.5625  56.12500  56.31250  41.379513   \n",
              "2000-01-05  2000-01-05  55.56250  58.1875  54.68750  56.90625  41.815826   \n",
              "2000-01-06  2000-01-06  56.09375  56.9375  54.18750  55.00000  40.415058   \n",
              "2000-01-07  2000-01-07  54.31250  56.1250  53.65625  55.71875  40.943214   \n",
              "\n",
              "              Volume  \n",
              "Date                  \n",
              "2000-01-03  53228400  \n",
              "2000-01-04  54119000  \n",
              "2000-01-05  64059600  \n",
              "2000-01-06  54976600  \n",
              "2000-01-07  62013600  "
            ]
          },
          "execution_count": 5,
          "metadata": {},
          "output_type": "execute_result"
        }
      ],
      "source": [
        "source = 'yahoo'\n",
        "tick = 'MSFT'\n",
        "stock = StockPrices(tick, folder=cache, url=source)\n",
        "stock.head()"
      ]
    },
    {
      "cell_type": "code",
      "execution_count": 5,
      "metadata": {},
      "outputs": [
        {
          "data": {
            "text/html": [
              "<div>\n",
              "<style scoped>\n",
              "    .dataframe tbody tr th:only-of-type {\n",
              "        vertical-align: middle;\n",
              "    }\n",
              "\n",
              "    .dataframe tbody tr th {\n",
              "        vertical-align: top;\n",
              "    }\n",
              "\n",
              "    .dataframe thead th {\n",
              "        text-align: right;\n",
              "    }\n",
              "</style>\n",
              "<table border=\"1\" class=\"dataframe\">\n",
              "  <thead>\n",
              "    <tr style=\"text-align: right;\">\n",
              "      <th></th>\n",
              "      <th>Date</th>\n",
              "      <th>Open</th>\n",
              "      <th>High</th>\n",
              "      <th>Low</th>\n",
              "      <th>Close</th>\n",
              "      <th>Adj Close</th>\n",
              "      <th>Volume</th>\n",
              "    </tr>\n",
              "    <tr>\n",
              "      <th>Date</th>\n",
              "      <th></th>\n",
              "      <th></th>\n",
              "      <th></th>\n",
              "      <th></th>\n",
              "      <th></th>\n",
              "      <th></th>\n",
              "      <th></th>\n",
              "    </tr>\n",
              "  </thead>\n",
              "  <tbody>\n",
              "    <tr>\n",
              "      <th>2018-03-08</th>\n",
              "      <td>2018-03-08</td>\n",
              "      <td>94.269997</td>\n",
              "      <td>95.099998</td>\n",
              "      <td>93.769997</td>\n",
              "      <td>94.430000</td>\n",
              "      <td>94.430000</td>\n",
              "      <td>25887800</td>\n",
              "    </tr>\n",
              "    <tr>\n",
              "      <th>2018-03-09</th>\n",
              "      <td>2018-03-09</td>\n",
              "      <td>95.290001</td>\n",
              "      <td>96.540001</td>\n",
              "      <td>95.000000</td>\n",
              "      <td>96.540001</td>\n",
              "      <td>96.540001</td>\n",
              "      <td>36937300</td>\n",
              "    </tr>\n",
              "    <tr>\n",
              "      <th>2018-03-12</th>\n",
              "      <td>2018-03-12</td>\n",
              "      <td>96.500000</td>\n",
              "      <td>97.209999</td>\n",
              "      <td>96.040001</td>\n",
              "      <td>96.769997</td>\n",
              "      <td>96.769997</td>\n",
              "      <td>26073700</td>\n",
              "    </tr>\n",
              "    <tr>\n",
              "      <th>2018-03-13</th>\n",
              "      <td>2018-03-13</td>\n",
              "      <td>97.000000</td>\n",
              "      <td>97.239998</td>\n",
              "      <td>93.970001</td>\n",
              "      <td>94.410004</td>\n",
              "      <td>94.410004</td>\n",
              "      <td>35387800</td>\n",
              "    </tr>\n",
              "    <tr>\n",
              "      <th>2018-03-14</th>\n",
              "      <td>2018-03-14</td>\n",
              "      <td>95.120003</td>\n",
              "      <td>95.410004</td>\n",
              "      <td>93.500000</td>\n",
              "      <td>93.849998</td>\n",
              "      <td>93.849998</td>\n",
              "      <td>32132000</td>\n",
              "    </tr>\n",
              "  </tbody>\n",
              "</table>\n",
              "</div>"
            ],
            "text/plain": [
              "                  Date       Open       High        Low      Close  Adj Close  \\\n",
              "Date                                                                            \n",
              "2018-03-08  2018-03-08  94.269997  95.099998  93.769997  94.430000  94.430000   \n",
              "2018-03-09  2018-03-09  95.290001  96.540001  95.000000  96.540001  96.540001   \n",
              "2018-03-12  2018-03-12  96.500000  97.209999  96.040001  96.769997  96.769997   \n",
              "2018-03-13  2018-03-13  97.000000  97.239998  93.970001  94.410004  94.410004   \n",
              "2018-03-14  2018-03-14  95.120003  95.410004  93.500000  93.849998  93.849998   \n",
              "\n",
              "              Volume  \n",
              "Date                  \n",
              "2018-03-08  25887800  \n",
              "2018-03-09  36937300  \n",
              "2018-03-12  26073700  \n",
              "2018-03-13  35387800  \n",
              "2018-03-14  32132000  "
            ]
          },
          "execution_count": 6,
          "metadata": {},
          "output_type": "execute_result"
        }
      ],
      "source": [
        "stock.tail()"
      ]
    },
    {
      "cell_type": "markdown",
      "metadata": {},
      "source": [
        "La classe <tt>StockPrices</tt> contient un objet <a href=\"http://pandas.pydata.org/pandas-docs/version/0.13.1/generated/pandas.DataFrame.html\">pandas.DataFrame</a> auquel on acc\u00e8de en \u00e9crivant <tt>stock.dataframe</tt> ou <tt>stock.df</tt> :"
      ]
    },
    {
      "cell_type": "code",
      "execution_count": 6,
      "metadata": {},
      "outputs": [
        {
          "data": {
            "text/plain": [
              "Index(['Date', 'Open', 'High', 'Low', 'Close', 'Adj Close', 'Volume'], dtype='object')"
            ]
          },
          "execution_count": 7,
          "metadata": {},
          "output_type": "execute_result"
        }
      ],
      "source": [
        "stock.dataframe.columns"
      ]
    },
    {
      "cell_type": "markdown",
      "metadata": {},
      "source": [
        "De la m\u00eame mani\u00e8re, on peut cr\u00e9er un objet <tt>StockPrices</tt> \u00e0 partir d'un DataFrame :"
      ]
    },
    {
      "cell_type": "code",
      "execution_count": 7,
      "metadata": {},
      "outputs": [
        {
          "data": {
            "text/html": [
              "<div>\n",
              "<style scoped>\n",
              "    .dataframe tbody tr th:only-of-type {\n",
              "        vertical-align: middle;\n",
              "    }\n",
              "\n",
              "    .dataframe tbody tr th {\n",
              "        vertical-align: top;\n",
              "    }\n",
              "\n",
              "    .dataframe thead th {\n",
              "        text-align: right;\n",
              "    }\n",
              "</style>\n",
              "<table border=\"1\" class=\"dataframe\">\n",
              "  <thead>\n",
              "    <tr style=\"text-align: right;\">\n",
              "      <th></th>\n",
              "      <th>Close</th>\n",
              "      <th>Date</th>\n",
              "    </tr>\n",
              "    <tr>\n",
              "      <th>Date</th>\n",
              "      <th></th>\n",
              "      <th></th>\n",
              "    </tr>\n",
              "  </thead>\n",
              "  <tbody>\n",
              "    <tr>\n",
              "      <th>2014-04-01</th>\n",
              "      <td>105.6</td>\n",
              "      <td>2014-04-01</td>\n",
              "    </tr>\n",
              "    <tr>\n",
              "      <th>2014-04-02</th>\n",
              "      <td>104.6</td>\n",
              "      <td>2014-04-02</td>\n",
              "    </tr>\n",
              "    <tr>\n",
              "      <th>2014-04-03</th>\n",
              "      <td>105.8</td>\n",
              "      <td>2014-04-03</td>\n",
              "    </tr>\n",
              "  </tbody>\n",
              "</table>\n",
              "</div>"
            ],
            "text/plain": [
              "            Close        Date\n",
              "Date                         \n",
              "2014-04-01  105.6  2014-04-01\n",
              "2014-04-02  104.6  2014-04-02\n",
              "2014-04-03  105.8  2014-04-03"
            ]
          },
          "execution_count": 8,
          "metadata": {},
          "output_type": "execute_result"
        }
      ],
      "source": [
        "import pandas\n",
        "data = [{\"Date\":\"2014-04-01\", \"Close\":105.6}, {\"Date\":\"2014-04-02\", \"Close\":104.6}, \n",
        "        {\"Date\":\"2014-04-03\", \"Close\":105.8}, ]\n",
        "df = pandas.DataFrame(data)\n",
        "stock = StockPrices(\"donnees\",df)\n",
        "stock.head()"
      ]
    },
    {
      "cell_type": "markdown",
      "metadata": {},
      "source": [
        "### Quelques graphes"
      ]
    },
    {
      "cell_type": "markdown",
      "metadata": {},
      "source": [
        "Premier dessin, on t\u00e9l\u00e9charge les donn\u00e9es de BNP puis on dessine le cours de l'action."
      ]
    },
    {
      "cell_type": "code",
      "execution_count": 8,
      "metadata": {},
      "outputs": [
        {
          "data": {
            "image/png": "[encoded data removed]",
            "text/plain": [
              "<Figure size 864x432 with 1 Axes>"
            ]
          },
          "metadata": {},
          "output_type": "display_data"
        }
      ],
      "source": [
        "import datetime\n",
        "stock = StockPrices(tick, folder=cache, url=source)\n",
        "ax = StockPrices.draw(stock, figsize=(12,6))"
      ]
    },
    {
      "cell_type": "code",
      "execution_count": 9,
      "metadata": {},
      "outputs": [
        {
          "data": {
            "image/png": "[encoded data removed]",
            "text/plain": [
              "<Figure size 864x432 with 1 Axes>"
            ]
          },
          "metadata": {},
          "output_type": "display_data"
        }
      ],
      "source": [
        "stock = StockPrices(tick, folder=cache, url=source)\n",
        "StockPrices.draw(stock, figsize=(12,6));"
      ]
    },
    {
      "cell_type": "markdown",
      "metadata": {},
      "source": [
        "La m\u00eame chose se produit sur une autre s\u00e9rie financi\u00e8re mais pas \u00e0 la m\u00eame date. On trace maintenant la s\u00e9rie *Open* (*Adj Close* d\u00e9fini\n",
        "sur cette page [View and download historical price, dividend, or split data](https://help.yahoo.com/kb/finance/historical-prices-sln2311.html?impressions=true) n'est disponible qu'avec Yahoo)."
      ]
    },
    {
      "cell_type": "code",
      "execution_count": 10,
      "metadata": {},
      "outputs": [
        {
          "data": {
            "image/png": "[encoded data removed]",
            "text/plain": [
              "<Figure size 864x432 with 1 Axes>"
            ]
          },
          "metadata": {},
          "output_type": "display_data"
        }
      ],
      "source": [
        "stock = StockPrices(\"MSFT\", folder=cache, url='yahoo')\n",
        "StockPrices.draw(stock, field=[\"Open\", \"Close\"], figsize=(12,6));"
      ]
    },
    {
      "cell_type": "markdown",
      "metadata": {},
      "source": [
        "Ce type de s\u00e9rie ne fait pas toujours appara\u00eetre les saut de prix qui survient comme par exemple le <a href=\"http://invest.bnpparibas.com/fr/pid5900/en-bref.html\">20 f\u00e9vrier 2002</a> lorsque le cours nominal de l'action de la BNP a \u00e9t\u00e9 divis\u00e9 par deux pour augmenter la liquidit\u00e9. Le nombre d'actions a \u00e9t\u00e9 multipli\u00e9 par deux. Les donn\u00e9es sont le plus souvent corrig\u00e9es [BNP f\u00e9vrier 2002](http://www.google.com/finance/historical?cid=667923&startdate=Feb+15%2C+2002&enddate=Feb+28%2C+2002&num=30&ei=AP8hWaDXF4WNUNuujYgK)."
      ]
    },
    {
      "cell_type": "markdown",
      "metadata": {},
      "source": [
        "### Ajouter une seconde s\u00e9rie sur un graphe"
      ]
    },
    {
      "cell_type": "markdown",
      "metadata": {},
      "source": [
        "Dans l'exemple suivant, on trace une s\u00e9rie financi\u00e8re puis on ajoute la s\u00e9rie des rendements sur un second axe."
      ]
    },
    {
      "cell_type": "code",
      "execution_count": 11,
      "metadata": {
        "scrolled": false
      },
      "outputs": [
        {
          "data": {
            "image/png": "[encoded data removed]",
            "text/plain": [
              "<Figure size 1152x576 with 2 Axes>"
            ]
          },
          "metadata": {},
          "output_type": "display_data"
        }
      ],
      "source": [
        "stock = StockPrices(tick)\n",
        "ret   = stock.returns()[\"2016-04-01\":\"2016-04-15\"]\n",
        "ret.dataframe.loc[\"2016-04-01\":\"2016-04-30\",\"Close\"]=0  # on annule certains valeurs\n",
        "ax = stock.plot(figsize=(16,8))\n",
        "ret.plot(axis=2, ax=ax);"
      ]
    },
    {
      "cell_type": "markdown",
      "metadata": {},
      "source": [
        "### Quelques op\u00e9rations"
      ]
    },
    {
      "cell_type": "code",
      "execution_count": 12,
      "metadata": {},
      "outputs": [
        {
          "data": {
            "text/plain": [
              "['MSFT.2000-01-03.2018-03-15.txt']"
            ]
          },
          "execution_count": 13,
          "metadata": {},
          "output_type": "execute_result"
        }
      ],
      "source": [
        "os.listdir(cache)"
      ]
    },
    {
      "cell_type": "markdown",
      "metadata": {},
      "source": [
        "On affiche les derni\u00e8res lignes."
      ]
    },
    {
      "cell_type": "code",
      "execution_count": 13,
      "metadata": {},
      "outputs": [
        {
          "data": {
            "text/html": [
              "<div>\n",
              "<style scoped>\n",
              "    .dataframe tbody tr th:only-of-type {\n",
              "        vertical-align: middle;\n",
              "    }\n",
              "\n",
              "    .dataframe tbody tr th {\n",
              "        vertical-align: top;\n",
              "    }\n",
              "\n",
              "    .dataframe thead th {\n",
              "        text-align: right;\n",
              "    }\n",
              "</style>\n",
              "<table border=\"1\" class=\"dataframe\">\n",
              "  <thead>\n",
              "    <tr style=\"text-align: right;\">\n",
              "      <th></th>\n",
              "      <th>Date</th>\n",
              "      <th>Open</th>\n",
              "      <th>High</th>\n",
              "      <th>Low</th>\n",
              "      <th>Close</th>\n",
              "      <th>Adj Close</th>\n",
              "      <th>Volume</th>\n",
              "    </tr>\n",
              "    <tr>\n",
              "      <th>Date</th>\n",
              "      <th></th>\n",
              "      <th></th>\n",
              "      <th></th>\n",
              "      <th></th>\n",
              "      <th></th>\n",
              "      <th></th>\n",
              "      <th></th>\n",
              "    </tr>\n",
              "  </thead>\n",
              "  <tbody>\n",
              "    <tr>\n",
              "      <th>2018-03-08</th>\n",
              "      <td>2018-03-08</td>\n",
              "      <td>94.269997</td>\n",
              "      <td>95.099998</td>\n",
              "      <td>93.769997</td>\n",
              "      <td>94.430000</td>\n",
              "      <td>94.430000</td>\n",
              "      <td>25887800</td>\n",
              "    </tr>\n",
              "    <tr>\n",
              "      <th>2018-03-09</th>\n",
              "      <td>2018-03-09</td>\n",
              "      <td>95.290001</td>\n",
              "      <td>96.540001</td>\n",
              "      <td>95.000000</td>\n",
              "      <td>96.540001</td>\n",
              "      <td>96.540001</td>\n",
              "      <td>36937300</td>\n",
              "    </tr>\n",
              "    <tr>\n",
              "      <th>2018-03-12</th>\n",
              "      <td>2018-03-12</td>\n",
              "      <td>96.500000</td>\n",
              "      <td>97.209999</td>\n",
              "      <td>96.040001</td>\n",
              "      <td>96.769997</td>\n",
              "      <td>96.769997</td>\n",
              "      <td>26073700</td>\n",
              "    </tr>\n",
              "    <tr>\n",
              "      <th>2018-03-13</th>\n",
              "      <td>2018-03-13</td>\n",
              "      <td>97.000000</td>\n",
              "      <td>97.239998</td>\n",
              "      <td>93.970001</td>\n",
              "      <td>94.410004</td>\n",
              "      <td>94.410004</td>\n",
              "      <td>35387800</td>\n",
              "    </tr>\n",
              "    <tr>\n",
              "      <th>2018-03-14</th>\n",
              "      <td>2018-03-14</td>\n",
              "      <td>95.120003</td>\n",
              "      <td>95.410004</td>\n",
              "      <td>93.500000</td>\n",
              "      <td>93.849998</td>\n",
              "      <td>93.849998</td>\n",
              "      <td>32132000</td>\n",
              "    </tr>\n",
              "  </tbody>\n",
              "</table>\n",
              "</div>"
            ],
            "text/plain": [
              "                  Date       Open       High        Low      Close  Adj Close  \\\n",
              "Date                                                                            \n",
              "2018-03-08  2018-03-08  94.269997  95.099998  93.769997  94.430000  94.430000   \n",
              "2018-03-09  2018-03-09  95.290001  96.540001  95.000000  96.540001  96.540001   \n",
              "2018-03-12  2018-03-12  96.500000  97.209999  96.040001  96.769997  96.769997   \n",
              "2018-03-13  2018-03-13  97.000000  97.239998  93.970001  94.410004  94.410004   \n",
              "2018-03-14  2018-03-14  95.120003  95.410004  93.500000  93.849998  93.849998   \n",
              "\n",
              "              Volume  \n",
              "Date                  \n",
              "2018-03-08  25887800  \n",
              "2018-03-09  36937300  \n",
              "2018-03-12  26073700  \n",
              "2018-03-13  35387800  \n",
              "2018-03-14  32132000  "
            ]
          },
          "execution_count": 14,
          "metadata": {},
          "output_type": "execute_result"
        }
      ],
      "source": [
        "stock.tail()"
      ]
    },
    {
      "cell_type": "markdown",
      "metadata": {},
      "source": [
        "On r\u00e9cup\u00e8re la s\u00e9rie des rendements."
      ]
    },
    {
      "cell_type": "code",
      "execution_count": 14,
      "metadata": {},
      "outputs": [
        {
          "data": {
            "text/html": [
              "<div>\n",
              "<style scoped>\n",
              "    .dataframe tbody tr th:only-of-type {\n",
              "        vertical-align: middle;\n",
              "    }\n",
              "\n",
              "    .dataframe tbody tr th {\n",
              "        vertical-align: top;\n",
              "    }\n",
              "\n",
              "    .dataframe thead th {\n",
              "        text-align: right;\n",
              "    }\n",
              "</style>\n",
              "<table border=\"1\" class=\"dataframe\">\n",
              "  <thead>\n",
              "    <tr style=\"text-align: right;\">\n",
              "      <th></th>\n",
              "      <th>Date</th>\n",
              "      <th>Volume</th>\n",
              "      <th>Open</th>\n",
              "      <th>High</th>\n",
              "      <th>Low</th>\n",
              "      <th>Close</th>\n",
              "      <th>Adj Close</th>\n",
              "    </tr>\n",
              "    <tr>\n",
              "      <th>Date</th>\n",
              "      <th></th>\n",
              "      <th></th>\n",
              "      <th></th>\n",
              "      <th></th>\n",
              "      <th></th>\n",
              "      <th></th>\n",
              "      <th></th>\n",
              "    </tr>\n",
              "  </thead>\n",
              "  <tbody>\n",
              "    <tr>\n",
              "      <th>2018-03-08</th>\n",
              "      <td>2018-03-08</td>\n",
              "      <td>25887800</td>\n",
              "      <td>0.011915</td>\n",
              "      <td>0.012348</td>\n",
              "      <td>0.014497</td>\n",
              "      <td>0.006073</td>\n",
              "      <td>0.006073</td>\n",
              "    </tr>\n",
              "    <tr>\n",
              "      <th>2018-03-09</th>\n",
              "      <td>2018-03-09</td>\n",
              "      <td>36937300</td>\n",
              "      <td>0.010820</td>\n",
              "      <td>0.015142</td>\n",
              "      <td>0.013117</td>\n",
              "      <td>0.022345</td>\n",
              "      <td>0.022345</td>\n",
              "    </tr>\n",
              "    <tr>\n",
              "      <th>2018-03-12</th>\n",
              "      <td>2018-03-12</td>\n",
              "      <td>26073700</td>\n",
              "      <td>0.012698</td>\n",
              "      <td>0.006940</td>\n",
              "      <td>0.010947</td>\n",
              "      <td>0.002382</td>\n",
              "      <td>0.002382</td>\n",
              "    </tr>\n",
              "    <tr>\n",
              "      <th>2018-03-13</th>\n",
              "      <td>2018-03-13</td>\n",
              "      <td>35387800</td>\n",
              "      <td>0.005181</td>\n",
              "      <td>0.000309</td>\n",
              "      <td>-0.021554</td>\n",
              "      <td>-0.024388</td>\n",
              "      <td>-0.024388</td>\n",
              "    </tr>\n",
              "    <tr>\n",
              "      <th>2018-03-14</th>\n",
              "      <td>2018-03-14</td>\n",
              "      <td>32132000</td>\n",
              "      <td>-0.019381</td>\n",
              "      <td>-0.018819</td>\n",
              "      <td>-0.005002</td>\n",
              "      <td>-0.005932</td>\n",
              "      <td>-0.005932</td>\n",
              "    </tr>\n",
              "  </tbody>\n",
              "</table>\n",
              "</div>"
            ],
            "text/plain": [
              "                  Date    Volume      Open      High       Low     Close  \\\n",
              "Date                                                                       \n",
              "2018-03-08  2018-03-08  25887800  0.011915  0.012348  0.014497  0.006073   \n",
              "2018-03-09  2018-03-09  36937300  0.010820  0.015142  0.013117  0.022345   \n",
              "2018-03-12  2018-03-12  26073700  0.012698  0.006940  0.010947  0.002382   \n",
              "2018-03-13  2018-03-13  35387800  0.005181  0.000309 -0.021554 -0.024388   \n",
              "2018-03-14  2018-03-14  32132000 -0.019381 -0.018819 -0.005002 -0.005932   \n",
              "\n",
              "            Adj Close  \n",
              "Date                   \n",
              "2018-03-08   0.006073  \n",
              "2018-03-09   0.022345  \n",
              "2018-03-12   0.002382  \n",
              "2018-03-13  -0.024388  \n",
              "2018-03-14  -0.005932  "
            ]
          },
          "execution_count": 15,
          "metadata": {},
          "output_type": "execute_result"
        }
      ],
      "source": [
        "ret = stock.returns()\n",
        "ret.tail()"
      ]
    },
    {
      "cell_type": "markdown",
      "metadata": {},
      "source": [
        "On trace la s\u00e9rie des rendements pour les derniers mois."
      ]
    },
    {
      "cell_type": "code",
      "execution_count": 15,
      "metadata": {},
      "outputs": [
        {
          "data": {
            "image/png": "[encoded data removed]",
            "text/plain": [
              "<Figure size 864x432 with 1 Axes>"
            ]
          },
          "metadata": {},
          "output_type": "display_data"
        }
      ],
      "source": [
        "StockPrices.draw(ret, figsize=(12,6), begin=\"2013-12-01\", date_format=\"%Y-%m\");"
      ]
    },
    {
      "cell_type": "markdown",
      "metadata": {},
      "source": [
        "### Quelques notions sur les dates"
      ]
    },
    {
      "cell_type": "markdown",
      "metadata": {},
      "source": [
        "La classe <i>StockPrices</i> utilise les dates sous forme de cha\u00eenes de caract\u00e8res. De cette fa\u00e7on, il n'est pas possible de faire des op\u00e9rations dessus. Pour ce faire, il faut les convertir en un objet appel\u00e9 <a href=\"https://docs.python.org/2/library/datetime.html\">datetime</a>."
      ]
    },
    {
      "cell_type": "code",
      "execution_count": 16,
      "metadata": {},
      "outputs": [
        {
          "data": {
            "text/plain": [
              "datetime.datetime(2014, 3, 31, 0, 0)"
            ]
          },
          "execution_count": 17,
          "metadata": {},
          "output_type": "execute_result"
        }
      ],
      "source": [
        "from datetime import datetime, timedelta\n",
        "dt = datetime.strptime(\"2014-03-31\",\"%Y-%m-%d\")\n",
        "dt"
      ]
    },
    {
      "cell_type": "markdown",
      "metadata": {},
      "source": [
        "On ajoute un jour :"
      ]
    },
    {
      "cell_type": "code",
      "execution_count": 17,
      "metadata": {},
      "outputs": [
        {
          "data": {
            "text/plain": [
              "datetime.datetime(2014, 4, 1, 0, 0)"
            ]
          },
          "execution_count": 18,
          "metadata": {},
          "output_type": "execute_result"
        }
      ],
      "source": [
        "delta = timedelta(1)\n",
        "dt = dt + delta\n",
        "dt"
      ]
    },
    {
      "cell_type": "markdown",
      "metadata": {},
      "source": [
        "Puis on convertit dans l'autre sens :"
      ]
    },
    {
      "cell_type": "code",
      "execution_count": 18,
      "metadata": {},
      "outputs": [
        {
          "data": {
            "text/plain": [
              "'2014-04-01'"
            ]
          },
          "execution_count": 19,
          "metadata": {},
          "output_type": "execute_result"
        }
      ],
      "source": [
        "s = dt.strftime(\"%Y-%m-%d\")\n",
        "s"
      ]
    },
    {
      "cell_type": "markdown",
      "metadata": {},
      "source": [
        "### Promenade dans l'index"
      ]
    },
    {
      "cell_type": "markdown",
      "metadata": {},
      "source": [
        "Il est facile de r\u00e9cup\u00e9rer les valeurs correspondant \u00e0 une date pr\u00e9cise. Mais comment r\u00e9cup\u00e9rer la valeur du jour d'apr\u00e8s ?"
      ]
    },
    {
      "cell_type": "code",
      "execution_count": 19,
      "metadata": {},
      "outputs": [
        {
          "name": "stdout",
          "output_type": "stream",
          "text": [
            "A                   Date        Open        High        Low      Close  \\\n",
            "Date                                                                   \n",
            "2005-01-04  2005-01-04  100.800804  101.566566  96.836838  97.347351   \n",
            "2005-01-05  2005-01-05   96.821823   98.548546  96.211212  96.851852   \n",
            "2005-01-06  2005-01-06   97.637634   98.048050  93.953957  94.369370   \n",
            "\n",
            "            Adj Close    Volume  \n",
            "Date                             \n",
            "2005-01-04  97.347351  27484200  \n",
            "2005-01-05  96.851852  16456700  \n",
            "2005-01-06  94.369370  20753400  \n",
            "D 97.347351\n",
            "G 97\n"
          ]
        }
      ],
      "source": [
        "tick2 = 'GOOGL'\n",
        "stock = StockPrices(tick2, folder=cache, url=source)\n",
        "df = stock.dataframe\n",
        "print(\"A\", df[\"2005-01-04\":\"2005-01-06\"])\n",
        "print(\"D\", df.loc[\"2005-01-04\",\"Close\"])\n",
        "print(\"G\", df.index.get_loc(\"2005-01-06\"))  # retourne la position de cette date"
      ]
    },
    {
      "cell_type": "markdown",
      "metadata": {},
      "source": [
        "### Sauver les tables"
      ]
    },
    {
      "cell_type": "markdown",
      "metadata": {},
      "source": [
        "On peut conserver les donn\u00e9es sous forme de fichiers pour les r\u00e9cup\u00e9rer plus tard."
      ]
    },
    {
      "cell_type": "code",
      "execution_count": 20,
      "metadata": {},
      "outputs": [
        {
          "data": {
            "text/plain": [
              "['donnees.txt']"
            ]
          },
          "execution_count": 21,
          "metadata": {},
          "output_type": "execute_result"
        }
      ],
      "source": [
        "stock = StockPrices(tick2, folder=cache, url=source)\n",
        "stock.dataframe.to_csv(\"donnees.txt\", sep=\"\\t\")\n",
        "[_ for _ in os.listdir(\".\") if \"donnees\" in _]"
      ]
    },
    {
      "cell_type": "markdown",
      "metadata": {},
      "source": [
        "Le fichier est sauv\u00e9. Pour le r\u00e9cup\u00e9rer avec pandas :"
      ]
    },
    {
      "cell_type": "code",
      "execution_count": 21,
      "metadata": {},
      "outputs": [
        {
          "data": {
            "text/html": [
              "<div>\n",
              "<style scoped>\n",
              "    .dataframe tbody tr th:only-of-type {\n",
              "        vertical-align: middle;\n",
              "    }\n",
              "\n",
              "    .dataframe tbody tr th {\n",
              "        vertical-align: top;\n",
              "    }\n",
              "\n",
              "    .dataframe thead th {\n",
              "        text-align: right;\n",
              "    }\n",
              "</style>\n",
              "<table border=\"1\" class=\"dataframe\">\n",
              "  <thead>\n",
              "    <tr style=\"text-align: right;\">\n",
              "      <th></th>\n",
              "      <th>Date</th>\n",
              "      <th>Date.1</th>\n",
              "      <th>Open</th>\n",
              "      <th>High</th>\n",
              "      <th>Low</th>\n",
              "      <th>Close</th>\n",
              "      <th>Adj Close</th>\n",
              "      <th>Volume</th>\n",
              "    </tr>\n",
              "  </thead>\n",
              "  <tbody>\n",
              "    <tr>\n",
              "      <th>0</th>\n",
              "      <td>2004-08-19</td>\n",
              "      <td>2004-08-19</td>\n",
              "      <td>50.050049</td>\n",
              "      <td>52.082081</td>\n",
              "      <td>48.028027</td>\n",
              "      <td>50.220219</td>\n",
              "      <td>50.220219</td>\n",
              "      <td>44659000</td>\n",
              "    </tr>\n",
              "    <tr>\n",
              "      <th>1</th>\n",
              "      <td>2004-08-20</td>\n",
              "      <td>2004-08-20</td>\n",
              "      <td>50.555557</td>\n",
              "      <td>54.594593</td>\n",
              "      <td>50.300301</td>\n",
              "      <td>54.209209</td>\n",
              "      <td>54.209209</td>\n",
              "      <td>22834300</td>\n",
              "    </tr>\n",
              "    <tr>\n",
              "      <th>2</th>\n",
              "      <td>2004-08-23</td>\n",
              "      <td>2004-08-23</td>\n",
              "      <td>55.430431</td>\n",
              "      <td>56.796795</td>\n",
              "      <td>54.579578</td>\n",
              "      <td>54.754753</td>\n",
              "      <td>54.754753</td>\n",
              "      <td>18256100</td>\n",
              "    </tr>\n",
              "    <tr>\n",
              "      <th>3</th>\n",
              "      <td>2004-08-24</td>\n",
              "      <td>2004-08-24</td>\n",
              "      <td>55.675674</td>\n",
              "      <td>55.855854</td>\n",
              "      <td>51.836838</td>\n",
              "      <td>52.487488</td>\n",
              "      <td>52.487488</td>\n",
              "      <td>15247300</td>\n",
              "    </tr>\n",
              "    <tr>\n",
              "      <th>4</th>\n",
              "      <td>2004-08-25</td>\n",
              "      <td>2004-08-25</td>\n",
              "      <td>52.532532</td>\n",
              "      <td>54.054054</td>\n",
              "      <td>51.991993</td>\n",
              "      <td>53.053055</td>\n",
              "      <td>53.053055</td>\n",
              "      <td>9188600</td>\n",
              "    </tr>\n",
              "  </tbody>\n",
              "</table>\n",
              "</div>"
            ],
            "text/plain": [
              "         Date      Date.1       Open       High        Low      Close  \\\n",
              "0  2004-08-19  2004-08-19  50.050049  52.082081  48.028027  50.220219   \n",
              "1  2004-08-20  2004-08-20  50.555557  54.594593  50.300301  54.209209   \n",
              "2  2004-08-23  2004-08-23  55.430431  56.796795  54.579578  54.754753   \n",
              "3  2004-08-24  2004-08-24  55.675674  55.855854  51.836838  52.487488   \n",
              "4  2004-08-25  2004-08-25  52.532532  54.054054  51.991993  53.053055   \n",
              "\n",
              "   Adj Close    Volume  \n",
              "0  50.220219  44659000  \n",
              "1  54.209209  22834300  \n",
              "2  54.754753  18256100  \n",
              "3  52.487488  15247300  \n",
              "4  53.053055   9188600  "
            ]
          },
          "execution_count": 22,
          "metadata": {},
          "output_type": "execute_result"
        }
      ],
      "source": [
        "import pandas\n",
        "df = pandas.read_csv(\"donnees.txt\", sep=\"\\t\")\n",
        "df.head()"
      ]
    },
    {
      "cell_type": "markdown",
      "metadata": {},
      "source": [
        "Les dates apparaissent deux fois."
      ]
    },
    {
      "cell_type": "code",
      "execution_count": 22,
      "metadata": {},
      "outputs": [
        {
          "name": "stdout",
          "output_type": "stream",
          "text": [
            "Date\tDate\tOpen\tHigh\tLow\tClose\tAdj Close\tVolume\n",
            "2004-08-19\t2004-08-19\t50.050049\t52.082081\t48.028027\t50.220219\t50.220219\t44659000\n",
            "2004-08-20\t2004-08-20\t50.555557\t54.594593\t50.300301\t54.209209\t54.209209\t22834300\n",
            "2004-08-23\t2004-08-23\t55.43043100000001\t56.796795\t54.57957800000001\t54.754753\t54.754753\t18256100\n",
            "2004-08-24\t2004-08-24\t55.675674\t55.855854\t51.836838\t52.487488\t52.487488\t15247300\n",
            "2004-08-25\t20\n"
          ]
        }
      ],
      "source": [
        "with open(\"donnees.txt\",\"r\") as f: \n",
        "    text = f.read()\n",
        "print(text[:400])"
      ]
    },
    {
      "cell_type": "markdown",
      "metadata": {},
      "source": [
        "Cela est d\u00fb au fait que les dates sont \u00e0 la fois une colonne et servent d'index. Pour \u00e9viter de les conserver deux fois, on demande explicitement \u00e0 ce que l'index ne soit pas ajout\u00e9 au fichier : "
      ]
    },
    {
      "cell_type": "code",
      "execution_count": 23,
      "metadata": {},
      "outputs": [],
      "source": [
        "stock = StockPrices(tick2, folder=cache, url=source)\n",
        "stock.dataframe.to_csv(\"donnees.txt\", sep=\"\\t\", index=False)"
      ]
    },
    {
      "cell_type": "markdown",
      "metadata": {},
      "source": [
        "Puis on r\u00e9cup\u00e8re les donn\u00e9es :"
      ]
    },
    {
      "cell_type": "code",
      "execution_count": 24,
      "metadata": {},
      "outputs": [
        {
          "data": {
            "text/html": [
              "<div>\n",
              "<style scoped>\n",
              "    .dataframe tbody tr th:only-of-type {\n",
              "        vertical-align: middle;\n",
              "    }\n",
              "\n",
              "    .dataframe tbody tr th {\n",
              "        vertical-align: top;\n",
              "    }\n",
              "\n",
              "    .dataframe thead th {\n",
              "        text-align: right;\n",
              "    }\n",
              "</style>\n",
              "<table border=\"1\" class=\"dataframe\">\n",
              "  <thead>\n",
              "    <tr style=\"text-align: right;\">\n",
              "      <th></th>\n",
              "      <th>Date</th>\n",
              "      <th>Open</th>\n",
              "      <th>High</th>\n",
              "      <th>Low</th>\n",
              "      <th>Close</th>\n",
              "      <th>Adj Close</th>\n",
              "      <th>Volume</th>\n",
              "    </tr>\n",
              "  </thead>\n",
              "  <tbody>\n",
              "    <tr>\n",
              "      <th>0</th>\n",
              "      <td>2004-08-19</td>\n",
              "      <td>50.050049</td>\n",
              "      <td>52.082081</td>\n",
              "      <td>48.028027</td>\n",
              "      <td>50.220219</td>\n",
              "      <td>50.220219</td>\n",
              "      <td>44659000</td>\n",
              "    </tr>\n",
              "    <tr>\n",
              "      <th>1</th>\n",
              "      <td>2004-08-20</td>\n",
              "      <td>50.555557</td>\n",
              "      <td>54.594593</td>\n",
              "      <td>50.300301</td>\n",
              "      <td>54.209209</td>\n",
              "      <td>54.209209</td>\n",
              "      <td>22834300</td>\n",
              "    </tr>\n",
              "    <tr>\n",
              "      <th>2</th>\n",
              "      <td>2004-08-23</td>\n",
              "      <td>55.430431</td>\n",
              "      <td>56.796795</td>\n",
              "      <td>54.579578</td>\n",
              "      <td>54.754753</td>\n",
              "      <td>54.754753</td>\n",
              "      <td>18256100</td>\n",
              "    </tr>\n",
              "    <tr>\n",
              "      <th>3</th>\n",
              "      <td>2004-08-24</td>\n",
              "      <td>55.675674</td>\n",
              "      <td>55.855854</td>\n",
              "      <td>51.836838</td>\n",
              "      <td>52.487488</td>\n",
              "      <td>52.487488</td>\n",
              "      <td>15247300</td>\n",
              "    </tr>\n",
              "    <tr>\n",
              "      <th>4</th>\n",
              "      <td>2004-08-25</td>\n",
              "      <td>52.532532</td>\n",
              "      <td>54.054054</td>\n",
              "      <td>51.991993</td>\n",
              "      <td>53.053055</td>\n",
              "      <td>53.053055</td>\n",
              "      <td>9188600</td>\n",
              "    </tr>\n",
              "  </tbody>\n",
              "</table>\n",
              "</div>"
            ],
            "text/plain": [
              "         Date       Open       High        Low      Close  Adj Close    Volume\n",
              "0  2004-08-19  50.050049  52.082081  48.028027  50.220219  50.220219  44659000\n",
              "1  2004-08-20  50.555557  54.594593  50.300301  54.209209  54.209209  22834300\n",
              "2  2004-08-23  55.430431  56.796795  54.579578  54.754753  54.754753  18256100\n",
              "3  2004-08-24  55.675674  55.855854  51.836838  52.487488  52.487488  15247300\n",
              "4  2004-08-25  52.532532  54.054054  51.991993  53.053055  53.053055   9188600"
            ]
          },
          "execution_count": 25,
          "metadata": {},
          "output_type": "execute_result"
        }
      ],
      "source": [
        "df = pandas.read_csv(\"donnees.txt\",sep=\"\\t\")\n",
        "df.head()"
      ]
    },
    {
      "cell_type": "markdown",
      "metadata": {},
      "source": [
        "On v\u00e9rifie le fichier sur disque dur :"
      ]
    },
    {
      "cell_type": "code",
      "execution_count": 25,
      "metadata": {},
      "outputs": [
        {
          "name": "stdout",
          "output_type": "stream",
          "text": [
            "Date\tOpen\tHigh\tLow\tClose\tAdj Close\tVolume\n",
            "2004-08-19\t50.050049\t52.082081\t48.028027\t50.220219\t50.220219\t44659000\n",
            "2004-08-20\t50.555557\t54.594593\t50.300301\t54.209209\t54.209209\t22834300\n",
            "2004-08-23\t55.43043100000001\t56.796795\t54.57957800000001\t54.754753\t54.754753\t18256100\n",
            "2004-08-24\t55.675674\t55.855854\t51.836838\t52.487488\t52.487488\t15247300\n",
            "2004-08-25\t52.532532\t54.054054\t51.991993\t53.05305500000001\t53.\n"
          ]
        }
      ],
      "source": [
        "with open(\"donnees.txt\", \"r\") as f:\n",
        "    text = f.read()\n",
        "print(text[:400])"
      ]
    },
    {
      "cell_type": "markdown",
      "metadata": {},
      "source": [
        "C'est mieux."
      ]
    },
    {
      "cell_type": "code",
      "execution_count": 26,
      "metadata": {},
      "outputs": [],
      "source": []
    }
  ],
  "metadata": {
    "kernelspec": {
      "display_name": "Python 3",
      "language": "python",
      "name": "python3"
    }
  },
  "nbformat": 4,
  "nbformat_minor": 1
}