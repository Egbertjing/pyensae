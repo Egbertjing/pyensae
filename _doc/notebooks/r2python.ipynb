{
  "cells": [
    {
      "cell_type": "markdown",
      "metadata": {},
      "source": [
        "# Convert a R script into Python"
      ]
    },
    {
      "cell_type": "code",
      "execution_count": null,
      "metadata": {
        "collapsed": true
      },
      "outputs": [],
      "source": []
    },
    {
      "cell_type": "code",
      "execution_count": null,
      "metadata": {
        "collapsed": true
      },
      "outputs": [],
      "source": [
        "rscript = \"\"\"\n",
        "nb=function(y=1930){\n",
        "debut=1816\n",
        "MatDFemale=matrix(D$Female,nrow=111)\n",
        "colnames(MatDFemale)=debut+0:198\n",
        "cly=(y-debut+1):111\n",
        "deces=diag(MatDFemale[:,cly[cly%in%1:199]])\n",
        "return(c(B$Female[B$Year==y],deces))}\n",
        "\"\"\""
      ]
    },
    {
      "cell_type": "code",
      "execution_count": null,
      "metadata": {
        "scrolled": false
      },
      "outputs": [
        {
          "name": "stdout",
          "output_type": "stream",
          "text": [
            "\n",
            "def nb(y=1930):\n",
            "\n",
            "    debut = 1816\n",
            "    MatDFemale = matrix(D . Female, nrow=111)\n",
            "    colnames(MatDFemale) .set(debut + 0, 198)\n",
            "    cly = (y - debut + 1), 111\n",
            "    deces = diag(MatDFemale[:, cly[cly in 1, 199]])\n",
            "    return tuple(B . Female[B . Year == y], deces)\n",
            "\n"
          ]
        }
      ],
      "source": [
        "from pyensae.languages import r2python\n",
        "print(r2python(rscript, pep8=True))"
      ]
    },
    {
      "cell_type": "code",
      "execution_count": null,
      "metadata": {},
      "outputs": [
        {
          "ename": "TypeError",
          "evalue": "unsupported operand type(s) for &: 'list' and 'list'",
          "output_type": "error",
          "traceback": [
            "\u001b[1;31m---------------------------------------------------------------------------\u001b[0m",
            "\u001b[1;31mTypeError\u001b[0m                                 Traceback (most recent call last)",
            "\u001b[1;32m<ipython-input-14-0811250cfc92>\u001b[0m in \u001b[0;36m<module>\u001b[1;34m()\u001b[0m\n\u001b[1;32m----> 1\u001b[1;33m \u001b[1;33m[\u001b[0m\u001b[1;36m4\u001b[0m\u001b[1;33m,\u001b[0m\u001b[1;36m5\u001b[0m\u001b[1;33m]\u001b[0m \u001b[1;33m&\u001b[0m \u001b[1;33m[\u001b[0m\u001b[1;36m4\u001b[0m\u001b[1;33m]\u001b[0m\u001b[1;33m\u001b[0m\u001b[0m\n\u001b[0m",
            "\u001b[1;31mTypeError\u001b[0m: unsupported operand type(s) for &: 'list' and 'list'"
          ]
        }
      ],
      "source": [
        "[4,5] & [4]"
      ]
    },
    {
      "cell_type": "code",
      "execution_count": null,
      "metadata": {
        "collapsed": true
      },
      "outputs": [],
      "source": []
    }
  ],
  "metadata": {
    "kernelspec": {
      "display_name": "Python 3",
      "language": "python",
      "name": "python3"
    },
    "language_info": {
      "codemirror_mode": {
        "name": "ipython",
        "version": 3
      },
      "file_extension": ".py",
      "mimetype": "text/x-python",
      "name": "python",
      "nbconvert_exporter": "python",
      "pygments_lexer": "ipython3",
      "version": "3.6.1"
    }
  },
  "nbformat": 4,
  "nbformat_minor": 2
}