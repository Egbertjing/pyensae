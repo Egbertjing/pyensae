{
 "cells": [
  {
   "cell_type": "markdown",
   "metadata": {},
   "source": [
    "# SQL Magic Commands with SQLite in a Notebook\n",
    "\n",
    "SQL from a notebooks, using magic commands to query a sqllite3 database."
   ]
  },
  {
   "cell_type": "code",
   "execution_count": null,
   "metadata": {
    "collapsed": true
   },
   "outputs": [],
   "source": [
    "%pylab inline\n",
    "import matplotlib.pyplot as plt\n",
    "plt.style.use('ggplot')"
   ]
  },
  {
   "cell_type": "markdown",
   "metadata": {},
   "source": [
    "This notebook introduced some of the magic commands used to easily query a SQLite database with [sqlite3](https://docs.python.org/3.4/library/sqlite3.html). SQLite databases can be easily manipulated with open source tools such as [SQLite Manager](https://addons.mozilla.org/fr/firefox/addon/sqlite-manager/) (add-on for [firefox](https://www.mozilla.org/)) or [SQLiteSpy](http://www.yunqa.de/delphi/doku.php/products/sqlitespy/index) (only on Windows). However, it is very convenient to put the results of a SQL query into a [DataFrame](http://pandas.pydata.org/pandas-docs/dev/generated/pandas.DataFrame.html). That what's this notebook is about.\n",
    "\n",
    "Let's start by importing some data."
   ]
  },
  {
   "cell_type": "code",
   "execution_count": null,
   "metadata": {
    "collapsed": false
   },
   "outputs": [
    {
     "data": {
      "text/plain": [
       "['velib_vanves.txt']"
      ]
     },
     "execution_count": null,
     "metadata": {},
     "output_type": "execute_result"
    }
   ],
   "source": [
    "import pyensae\n",
    "%load_ext pyensae\n",
    "pyensae.download_data(\"velib_vanves.zip\", website = \"xd\")"
   ]
  },
  {
   "cell_type": "code",
   "execution_count": null,
   "metadata": {
    "collapsed": false
   },
   "outputs": [],
   "source": [
    "import os\n",
    "if os.path.exists(\"notebook_example.db3\") : os.remove(\"notebook_example.db3\")"
   ]
  },
  {
   "cell_type": "markdown",
   "metadata": {},
   "source": [
    "We connect to the database:"
   ]
  },
  {
   "cell_type": "code",
   "execution_count": null,
   "metadata": {
    "collapsed": false
   },
   "outputs": [
    {
     "data": {
      "text/plain": [
       "<pyensae.sql.sql_interface_database.InterfaceSQLDatabase at 0xa1c9400>"
      ]
     },
     "execution_count": null,
     "metadata": {},
     "output_type": "execute_result"
    }
   ],
   "source": [
    "%SQL_connect notebook_example.db3"
   ]
  },
  {
   "cell_type": "markdown",
   "metadata": {},
   "source": [
    "The database is empty so the table list should be empty:"
   ]
  },
  {
   "cell_type": "code",
   "execution_count": null,
   "metadata": {
    "collapsed": false
   },
   "outputs": [
    {
     "data": {
      "text/plain": [
       "[]"
      ]
     },
     "execution_count": null,
     "metadata": {},
     "output_type": "execute_result"
    }
   ],
   "source": [
    "%SQL_tables"
   ]
  },
  {
   "cell_type": "markdown",
   "metadata": {},
   "source": [
    "So we import a flat file (TSV format only) into the database."
   ]
  },
  {
   "cell_type": "code",
   "execution_count": null,
   "metadata": {
    "collapsed": false
   },
   "outputs": [
    {
     "data": {
      "text/plain": [
       "9461"
      ]
     },
     "execution_count": null,
     "metadata": {},
     "output_type": "execute_result"
    }
   ],
   "source": [
    "%SQL_import_tsv -t velib velib_vanves.txt"
   ]
  },
  {
   "cell_type": "markdown",
   "metadata": {},
   "source": [
    "We check there is one more table:"
   ]
  },
  {
   "cell_type": "code",
   "execution_count": null,
   "metadata": {
    "collapsed": false
   },
   "outputs": [
    {
     "data": {
      "text/plain": [
       "['velib']"
      ]
     },
     "execution_count": null,
     "metadata": {},
     "output_type": "execute_result"
    }
   ],
   "source": [
    "%SQL_tables"
   ]
  },
  {
   "cell_type": "markdown",
   "metadata": {},
   "source": [
    "We get the schema of the database:"
   ]
  },
  {
   "cell_type": "code",
   "execution_count": null,
   "metadata": {
    "collapsed": false
   },
   "outputs": [
    {
     "data": {
      "text/plain": [
       "{0: ('address', str),\n",
       " 1: ('available_bike_stands', int),\n",
       " 2: ('available_bikes', int),\n",
       " 3: ('banking', int),\n",
       " 4: ('bike_stands', int),\n",
       " 5: ('bonus', int),\n",
       " 6: ('contract_name', str),\n",
       " 7: ('last_update', str),\n",
       " 8: ('lat', str),\n",
       " 9: ('lng', str),\n",
       " 10: ('name', str),\n",
       " 11: ('number', int),\n",
       " 12: ('status', str),\n",
       " 13: ('idr', int)}"
      ]
     },
     "execution_count": null,
     "metadata": {},
     "output_type": "execute_result"
    }
   ],
   "source": [
    "%SQL_schema velib"
   ]
  },
  {
   "cell_type": "markdown",
   "metadata": {},
   "source": [
    "And we execute the first query:"
   ]
  },
  {
   "cell_type": "code",
   "execution_count": null,
   "metadata": {
    "collapsed": false
   },
   "outputs": [
    {
     "data": {
      "text/html": [
       "<div>\n",
       "<table border=\"1\" class=\"dataframe\">\n",
       "  <thead>\n",
       "    <tr style=\"text-align: right;\">\n",
       "      <th></th>\n",
       "      <th>MAX(available_bike_stands +available_bikes)</th>\n",
       "    </tr>\n",
       "  </thead>\n",
       "  <tbody>\n",
       "    <tr>\n",
       "      <th>0</th>\n",
       "      <td>71</td>\n",
       "    </tr>\n",
       "  </tbody>\n",
       "</table>\n",
       "</div>"
      ],
      "text/plain": [
       "   MAX(available_bike_stands +available_bikes)\n",
       "0                                           71"
      ]
     },
     "execution_count": null,
     "metadata": {},
     "output_type": "execute_result"
    }
   ],
   "source": [
    "%%SQL \n",
    "SELECT MAX(available_bike_stands +available_bikes) FROM velib"
   ]
  },
  {
   "cell_type": "markdown",
   "metadata": {},
   "source": [
    "Or another in one row:"
   ]
  },
  {
   "cell_type": "code",
   "execution_count": null,
   "metadata": {
    "collapsed": false
   },
   "outputs": [
    {
     "data": {
      "text/html": [
       "<div>\n",
       "<table border=\"1\" class=\"dataframe\">\n",
       "  <thead>\n",
       "    <tr style=\"text-align: right;\">\n",
       "      <th></th>\n",
       "      <th>COUNT(*)</th>\n",
       "    </tr>\n",
       "  </thead>\n",
       "  <tbody>\n",
       "    <tr>\n",
       "      <th>0</th>\n",
       "      <td>9461</td>\n",
       "    </tr>\n",
       "  </tbody>\n",
       "</table>\n",
       "</div>"
      ],
      "text/plain": [
       "   COUNT(*)\n",
       "0      9461"
      ]
     },
     "execution_count": null,
     "metadata": {},
     "output_type": "execute_result"
    }
   ],
   "source": [
    "%SQL -q \"SELECT COUNT(*) FROM velib\""
   ]
  },
  {
   "cell_type": "markdown",
   "metadata": {},
   "source": [
    "We want to draw a random sample out of this table. We ask the database to recognize the following python function (its name cannot contain ``'_'``):"
   ]
  },
  {
   "cell_type": "code",
   "execution_count": null,
   "metadata": {
    "collapsed": false
   },
   "outputs": [],
   "source": [
    "import random\n",
    "def arandomfunction():\n",
    "    return random.randint(1,100)\n",
    "%SQL_add_function arandomfunction"
   ]
  },
  {
   "cell_type": "markdown",
   "metadata": {},
   "source": [
    "We then execute the following query. Because the first line contains a identifier, the query will only display the shape of the results dataframe and not its content which will be stored in ``df``:"
   ]
  },
  {
   "cell_type": "code",
   "execution_count": null,
   "metadata": {
    "collapsed": false
   },
   "outputs": [
    {
     "data": {
      "text/html": [
       "<div>\n",
       "<table border=\"1\" class=\"dataframe\">\n",
       "  <thead>\n",
       "    <tr style=\"text-align: right;\">\n",
       "      <th></th>\n",
       "      <th>address</th>\n",
       "      <th>available_bike_stands</th>\n",
       "      <th>available_bikes</th>\n",
       "      <th>banking</th>\n",
       "      <th>bike_stands</th>\n",
       "      <th>bonus</th>\n",
       "      <th>contract_name</th>\n",
       "      <th>last_update</th>\n",
       "      <th>lat</th>\n",
       "      <th>lng</th>\n",
       "      <th>name</th>\n",
       "      <th>number</th>\n",
       "      <th>status</th>\n",
       "      <th>idr</th>\n",
       "      <th>rnd</th>\n",
       "    </tr>\n",
       "  </thead>\n",
       "  <tbody>\n",
       "    <tr>\n",
       "      <th>0</th>\n",
       "      <td>112 RUE VERCINGETORIX - 75014 PARIS</td>\n",
       "      <td>65</td>\n",
       "      <td>2</td>\n",
       "      <td>0</td>\n",
       "      <td>67</td>\n",
       "      <td>0</td>\n",
       "      <td>Paris</td>\n",
       "      <td>15/07/2013 21:20</td>\n",
       "      <td>48,83425925</td>\n",
       "      <td>2,313391647</td>\n",
       "      <td>14029 - GERGOVIE VERCINGETORIX</td>\n",
       "      <td>14029</td>\n",
       "      <td>OPEN</td>\n",
       "      <td>94073</td>\n",
       "      <td>52</td>\n",
       "    </tr>\n",
       "    <tr>\n",
       "      <th>1</th>\n",
       "      <td>112 RUE VERCINGETORIX - 75014 PARIS</td>\n",
       "      <td>61</td>\n",
       "      <td>6</td>\n",
       "      <td>0</td>\n",
       "      <td>67</td>\n",
       "      <td>0</td>\n",
       "      <td>Paris</td>\n",
       "      <td>17/07/2013 08:10</td>\n",
       "      <td>48,83425925</td>\n",
       "      <td>2,313391647</td>\n",
       "      <td>14029 - GERGOVIE VERCINGETORIX</td>\n",
       "      <td>14029</td>\n",
       "      <td>OPEN</td>\n",
       "      <td>607795</td>\n",
       "      <td>1</td>\n",
       "    </tr>\n",
       "    <tr>\n",
       "      <th>2</th>\n",
       "      <td>112 RUE VERCINGETORIX - 75014 PARIS</td>\n",
       "      <td>61</td>\n",
       "      <td>6</td>\n",
       "      <td>0</td>\n",
       "      <td>67</td>\n",
       "      <td>0</td>\n",
       "      <td>Paris</td>\n",
       "      <td>17/07/2013 20:05</td>\n",
       "      <td>48,83425925</td>\n",
       "      <td>2,313391647</td>\n",
       "      <td>14029 - GERGOVIE VERCINGETORIX</td>\n",
       "      <td>14029</td>\n",
       "      <td>OPEN</td>\n",
       "      <td>783542</td>\n",
       "      <td>71</td>\n",
       "    </tr>\n",
       "    <tr>\n",
       "      <th>3</th>\n",
       "      <td>112 RUE VERCINGETORIX - 75014 PARIS</td>\n",
       "      <td>61</td>\n",
       "      <td>6</td>\n",
       "      <td>0</td>\n",
       "      <td>67</td>\n",
       "      <td>0</td>\n",
       "      <td>Paris</td>\n",
       "      <td>17/07/2013 22:20</td>\n",
       "      <td>48,83425925</td>\n",
       "      <td>2,313391647</td>\n",
       "      <td>14029 - GERGOVIE VERCINGETORIX</td>\n",
       "      <td>14029</td>\n",
       "      <td>OPEN</td>\n",
       "      <td>816725</td>\n",
       "      <td>40</td>\n",
       "    </tr>\n",
       "    <tr>\n",
       "      <th>4</th>\n",
       "      <td>112 RUE VERCINGETORIX - 75014 PARIS</td>\n",
       "      <td>63</td>\n",
       "      <td>4</td>\n",
       "      <td>0</td>\n",
       "      <td>67</td>\n",
       "      <td>0</td>\n",
       "      <td>Paris</td>\n",
       "      <td>18/07/2013 13:35</td>\n",
       "      <td>48,83425925</td>\n",
       "      <td>2,313391647</td>\n",
       "      <td>14029 - GERGOVIE VERCINGETORIX</td>\n",
       "      <td>14029</td>\n",
       "      <td>OPEN</td>\n",
       "      <td>1041632</td>\n",
       "      <td>84</td>\n",
       "    </tr>\n",
       "    <tr>\n",
       "      <th>5</th>\n",
       "      <td>112 RUE VERCINGETORIX - 75014 PARIS</td>\n",
       "      <td>53</td>\n",
       "      <td>14</td>\n",
       "      <td>0</td>\n",
       "      <td>67</td>\n",
       "      <td>0</td>\n",
       "      <td>Paris</td>\n",
       "      <td>19/07/2013 01:35</td>\n",
       "      <td>48,83425925</td>\n",
       "      <td>2,313391647</td>\n",
       "      <td>14029 - GERGOVIE VERCINGETORIX</td>\n",
       "      <td>14029</td>\n",
       "      <td>OPEN</td>\n",
       "      <td>1218608</td>\n",
       "      <td>92</td>\n",
       "    </tr>\n",
       "    <tr>\n",
       "      <th>6</th>\n",
       "      <td>112 RUE VERCINGETORIX - 75014 PARIS</td>\n",
       "      <td>33</td>\n",
       "      <td>34</td>\n",
       "      <td>0</td>\n",
       "      <td>67</td>\n",
       "      <td>0</td>\n",
       "      <td>Paris</td>\n",
       "      <td>19/07/2013 02:15</td>\n",
       "      <td>48,83425925</td>\n",
       "      <td>2,313391647</td>\n",
       "      <td>14029 - GERGOVIE VERCINGETORIX</td>\n",
       "      <td>14029</td>\n",
       "      <td>OPEN</td>\n",
       "      <td>1228440</td>\n",
       "      <td>98</td>\n",
       "    </tr>\n",
       "    <tr>\n",
       "      <th>7</th>\n",
       "      <td>112 RUE VERCINGETORIX - 75014 PARIS</td>\n",
       "      <td>43</td>\n",
       "      <td>24</td>\n",
       "      <td>0</td>\n",
       "      <td>67</td>\n",
       "      <td>0</td>\n",
       "      <td>Paris</td>\n",
       "      <td>19/07/2013 14:05</td>\n",
       "      <td>48,83425925</td>\n",
       "      <td>2,313391647</td>\n",
       "      <td>14029 - GERGOVIE VERCINGETORIX</td>\n",
       "      <td>14029</td>\n",
       "      <td>OPEN</td>\n",
       "      <td>1402958</td>\n",
       "      <td>17</td>\n",
       "    </tr>\n",
       "    <tr>\n",
       "      <th>8</th>\n",
       "      <td>112 RUE VERCINGETORIX - 75014 PARIS</td>\n",
       "      <td>51</td>\n",
       "      <td>16</td>\n",
       "      <td>0</td>\n",
       "      <td>67</td>\n",
       "      <td>0</td>\n",
       "      <td>Paris</td>\n",
       "      <td>19/07/2013 17:40</td>\n",
       "      <td>48,83425925</td>\n",
       "      <td>2,313391647</td>\n",
       "      <td>14029 - GERGOVIE VERCINGETORIX</td>\n",
       "      <td>14029</td>\n",
       "      <td>OPEN</td>\n",
       "      <td>1455805</td>\n",
       "      <td>15</td>\n",
       "    </tr>\n",
       "    <tr>\n",
       "      <th>9</th>\n",
       "      <td>112 RUE VERCINGETORIX - 75014 PARIS</td>\n",
       "      <td>54</td>\n",
       "      <td>13</td>\n",
       "      <td>0</td>\n",
       "      <td>67</td>\n",
       "      <td>0</td>\n",
       "      <td>Paris</td>\n",
       "      <td>19/07/2013 19:15</td>\n",
       "      <td>48,83425925</td>\n",
       "      <td>2,313391647</td>\n",
       "      <td>14029 - GERGOVIE VERCINGETORIX</td>\n",
       "      <td>14029</td>\n",
       "      <td>OPEN</td>\n",
       "      <td>1479156</td>\n",
       "      <td>6</td>\n",
       "    </tr>\n",
       "  </tbody>\n",
       "</table>\n",
       "</div>"
      ],
      "text/plain": [
       "                               address  available_bike_stands  \\\n",
       "0  112 RUE VERCINGETORIX - 75014 PARIS                     65   \n",
       "1  112 RUE VERCINGETORIX - 75014 PARIS                     61   \n",
       "2  112 RUE VERCINGETORIX - 75014 PARIS                     61   \n",
       "3  112 RUE VERCINGETORIX - 75014 PARIS                     61   \n",
       "4  112 RUE VERCINGETORIX - 75014 PARIS                     63   \n",
       "5  112 RUE VERCINGETORIX - 75014 PARIS                     53   \n",
       "6  112 RUE VERCINGETORIX - 75014 PARIS                     33   \n",
       "7  112 RUE VERCINGETORIX - 75014 PARIS                     43   \n",
       "8  112 RUE VERCINGETORIX - 75014 PARIS                     51   \n",
       "9  112 RUE VERCINGETORIX - 75014 PARIS                     54   \n",
       "\n",
       "   available_bikes  banking  bike_stands  bonus contract_name  \\\n",
       "0                2        0           67      0         Paris   \n",
       "1                6        0           67      0         Paris   \n",
       "2                6        0           67      0         Paris   \n",
       "3                6        0           67      0         Paris   \n",
       "4                4        0           67      0         Paris   \n",
       "5               14        0           67      0         Paris   \n",
       "6               34        0           67      0         Paris   \n",
       "7               24        0           67      0         Paris   \n",
       "8               16        0           67      0         Paris   \n",
       "9               13        0           67      0         Paris   \n",
       "\n",
       "        last_update          lat          lng                            name  \\\n",
       "0  15/07/2013 21:20  48,83425925  2,313391647  14029 - GERGOVIE VERCINGETORIX   \n",
       "1  17/07/2013 08:10  48,83425925  2,313391647  14029 - GERGOVIE VERCINGETORIX   \n",
       "2  17/07/2013 20:05  48,83425925  2,313391647  14029 - GERGOVIE VERCINGETORIX   \n",
       "3  17/07/2013 22:20  48,83425925  2,313391647  14029 - GERGOVIE VERCINGETORIX   \n",
       "4  18/07/2013 13:35  48,83425925  2,313391647  14029 - GERGOVIE VERCINGETORIX   \n",
       "5  19/07/2013 01:35  48,83425925  2,313391647  14029 - GERGOVIE VERCINGETORIX   \n",
       "6  19/07/2013 02:15  48,83425925  2,313391647  14029 - GERGOVIE VERCINGETORIX   \n",
       "7  19/07/2013 14:05  48,83425925  2,313391647  14029 - GERGOVIE VERCINGETORIX   \n",
       "8  19/07/2013 17:40  48,83425925  2,313391647  14029 - GERGOVIE VERCINGETORIX   \n",
       "9  19/07/2013 19:15  48,83425925  2,313391647  14029 - GERGOVIE VERCINGETORIX   \n",
       "\n",
       "   number status      idr  rnd  \n",
       "0   14029   OPEN    94073   52  \n",
       "1   14029   OPEN   607795    1  \n",
       "2   14029   OPEN   783542   71  \n",
       "3   14029   OPEN   816725   40  \n",
       "4   14029   OPEN  1041632   84  \n",
       "5   14029   OPEN  1218608   92  \n",
       "6   14029   OPEN  1228440   98  \n",
       "7   14029   OPEN  1402958   17  \n",
       "8   14029   OPEN  1455805   15  \n",
       "9   14029   OPEN  1479156    6  "
      ]
     },
     "execution_count": null,
     "metadata": {},
     "output_type": "execute_result"
    }
   ],
   "source": [
    "%%SQL --df=df\n",
    "SELECT * FROM (\n",
    "    SELECT *,arandomfunction() AS rnd FROM velib)\n",
    "    WHERE rnd==1"
   ]
  },
  {
   "cell_type": "markdown",
   "metadata": {},
   "source": [
    "We look at the head:"
   ]
  },
  {
   "cell_type": "code",
   "execution_count": null,
   "metadata": {
    "collapsed": false
   },
   "outputs": [
    {
     "data": {
      "text/html": [
       "<div>\n",
       "<table border=\"1\" class=\"dataframe\">\n",
       "  <thead>\n",
       "    <tr style=\"text-align: right;\">\n",
       "      <th></th>\n",
       "      <th>address</th>\n",
       "      <th>available_bike_stands</th>\n",
       "      <th>available_bikes</th>\n",
       "      <th>banking</th>\n",
       "      <th>bike_stands</th>\n",
       "      <th>bonus</th>\n",
       "      <th>contract_name</th>\n",
       "      <th>last_update</th>\n",
       "      <th>lat</th>\n",
       "      <th>lng</th>\n",
       "      <th>name</th>\n",
       "      <th>number</th>\n",
       "      <th>status</th>\n",
       "      <th>idr</th>\n",
       "      <th>rnd</th>\n",
       "    </tr>\n",
       "  </thead>\n",
       "  <tbody>\n",
       "    <tr>\n",
       "      <th>0</th>\n",
       "      <td>112 RUE VERCINGETORIX - 75014 PARIS</td>\n",
       "      <td>65</td>\n",
       "      <td>2</td>\n",
       "      <td>0</td>\n",
       "      <td>67</td>\n",
       "      <td>0</td>\n",
       "      <td>Paris</td>\n",
       "      <td>15/07/2013 21:20</td>\n",
       "      <td>48,83425925</td>\n",
       "      <td>2,313391647</td>\n",
       "      <td>14029 - GERGOVIE VERCINGETORIX</td>\n",
       "      <td>14029</td>\n",
       "      <td>OPEN</td>\n",
       "      <td>94073</td>\n",
       "      <td>52</td>\n",
       "    </tr>\n",
       "    <tr>\n",
       "      <th>1</th>\n",
       "      <td>112 RUE VERCINGETORIX - 75014 PARIS</td>\n",
       "      <td>61</td>\n",
       "      <td>6</td>\n",
       "      <td>0</td>\n",
       "      <td>67</td>\n",
       "      <td>0</td>\n",
       "      <td>Paris</td>\n",
       "      <td>17/07/2013 08:10</td>\n",
       "      <td>48,83425925</td>\n",
       "      <td>2,313391647</td>\n",
       "      <td>14029 - GERGOVIE VERCINGETORIX</td>\n",
       "      <td>14029</td>\n",
       "      <td>OPEN</td>\n",
       "      <td>607795</td>\n",
       "      <td>1</td>\n",
       "    </tr>\n",
       "    <tr>\n",
       "      <th>2</th>\n",
       "      <td>112 RUE VERCINGETORIX - 75014 PARIS</td>\n",
       "      <td>61</td>\n",
       "      <td>6</td>\n",
       "      <td>0</td>\n",
       "      <td>67</td>\n",
       "      <td>0</td>\n",
       "      <td>Paris</td>\n",
       "      <td>17/07/2013 20:05</td>\n",
       "      <td>48,83425925</td>\n",
       "      <td>2,313391647</td>\n",
       "      <td>14029 - GERGOVIE VERCINGETORIX</td>\n",
       "      <td>14029</td>\n",
       "      <td>OPEN</td>\n",
       "      <td>783542</td>\n",
       "      <td>71</td>\n",
       "    </tr>\n",
       "    <tr>\n",
       "      <th>3</th>\n",
       "      <td>112 RUE VERCINGETORIX - 75014 PARIS</td>\n",
       "      <td>61</td>\n",
       "      <td>6</td>\n",
       "      <td>0</td>\n",
       "      <td>67</td>\n",
       "      <td>0</td>\n",
       "      <td>Paris</td>\n",
       "      <td>17/07/2013 22:20</td>\n",
       "      <td>48,83425925</td>\n",
       "      <td>2,313391647</td>\n",
       "      <td>14029 - GERGOVIE VERCINGETORIX</td>\n",
       "      <td>14029</td>\n",
       "      <td>OPEN</td>\n",
       "      <td>816725</td>\n",
       "      <td>40</td>\n",
       "    </tr>\n",
       "    <tr>\n",
       "      <th>4</th>\n",
       "      <td>112 RUE VERCINGETORIX - 75014 PARIS</td>\n",
       "      <td>63</td>\n",
       "      <td>4</td>\n",
       "      <td>0</td>\n",
       "      <td>67</td>\n",
       "      <td>0</td>\n",
       "      <td>Paris</td>\n",
       "      <td>18/07/2013 13:35</td>\n",
       "      <td>48,83425925</td>\n",
       "      <td>2,313391647</td>\n",
       "      <td>14029 - GERGOVIE VERCINGETORIX</td>\n",
       "      <td>14029</td>\n",
       "      <td>OPEN</td>\n",
       "      <td>1041632</td>\n",
       "      <td>84</td>\n",
       "    </tr>\n",
       "  </tbody>\n",
       "</table>\n",
       "</div>"
      ],
      "text/plain": [
       "                               address  available_bike_stands  \\\n",
       "0  112 RUE VERCINGETORIX - 75014 PARIS                     65   \n",
       "1  112 RUE VERCINGETORIX - 75014 PARIS                     61   \n",
       "2  112 RUE VERCINGETORIX - 75014 PARIS                     61   \n",
       "3  112 RUE VERCINGETORIX - 75014 PARIS                     61   \n",
       "4  112 RUE VERCINGETORIX - 75014 PARIS                     63   \n",
       "\n",
       "   available_bikes  banking  bike_stands  bonus contract_name  \\\n",
       "0                2        0           67      0         Paris   \n",
       "1                6        0           67      0         Paris   \n",
       "2                6        0           67      0         Paris   \n",
       "3                6        0           67      0         Paris   \n",
       "4                4        0           67      0         Paris   \n",
       "\n",
       "        last_update          lat          lng                            name  \\\n",
       "0  15/07/2013 21:20  48,83425925  2,313391647  14029 - GERGOVIE VERCINGETORIX   \n",
       "1  17/07/2013 08:10  48,83425925  2,313391647  14029 - GERGOVIE VERCINGETORIX   \n",
       "2  17/07/2013 20:05  48,83425925  2,313391647  14029 - GERGOVIE VERCINGETORIX   \n",
       "3  17/07/2013 22:20  48,83425925  2,313391647  14029 - GERGOVIE VERCINGETORIX   \n",
       "4  18/07/2013 13:35  48,83425925  2,313391647  14029 - GERGOVIE VERCINGETORIX   \n",
       "\n",
       "   number status      idr  rnd  \n",
       "0   14029   OPEN    94073   52  \n",
       "1   14029   OPEN   607795    1  \n",
       "2   14029   OPEN   783542   71  \n",
       "3   14029   OPEN   816725   40  \n",
       "4   14029   OPEN  1041632   84  "
      ]
     },
     "execution_count": null,
     "metadata": {},
     "output_type": "execute_result"
    }
   ],
   "source": [
    "df.head()"
   ]
  },
  {
   "cell_type": "markdown",
   "metadata": {},
   "source": [
    "If you into column ``rnd``, you can see that it does not contain the value if was filtered on. It is probably because the python function is evaluated twice. We add this new dataframe to the database:"
   ]
  },
  {
   "cell_type": "code",
   "execution_count": null,
   "metadata": {
    "collapsed": false
   },
   "outputs": [
    {
     "data": {
      "text/plain": [
       "89"
      ]
     },
     "execution_count": null,
     "metadata": {},
     "output_type": "execute_result"
    }
   ],
   "source": [
    "%SQL_import_df -t sample df"
   ]
  },
  {
   "cell_type": "markdown",
   "metadata": {},
   "source": [
    "We check it is part the list of tables:"
   ]
  },
  {
   "cell_type": "code",
   "execution_count": null,
   "metadata": {
    "collapsed": false
   },
   "outputs": [
    {
     "data": {
      "text/plain": [
       "['sample', 'velib']"
      ]
     },
     "execution_count": null,
     "metadata": {},
     "output_type": "execute_result"
    }
   ],
   "source": [
    "%SQL_tables"
   ]
  },
  {
   "cell_type": "markdown",
   "metadata": {},
   "source": [
    "We do some more queries:"
   ]
  },
  {
   "cell_type": "code",
   "execution_count": null,
   "metadata": {
    "collapsed": false
   },
   "outputs": [
    {
     "name": "stdout",
     "output_type": "stream",
     "text": [
      "unable to execute a SQL request (1)(file notebook_example.db3)\n",
      "SELECT insample, COUNT(*) AS nb FROM (\n",
      "    SELECT velib.*, sample.idr AS insample \n",
      "    FROM velib OUTER JOIN sample\n",
      "    ON velib.idr == sample.idr\n",
      ")\n",
      "RIGHT and FULL OUTER JOINs are not currently supported\n",
      "'SELECT insample, COUNT(*) AS nb FROM (\n",
      "    SELECT velib.*, sample.idr AS insample \n",
      "    FROM velib OUTER JOIN sample\n",
      "    ON velib.idr == sample.idr\n",
      ")'\n"
     ]
    }
   ],
   "source": [
    "%%SQL\n",
    "\n",
    "SELECT insample, COUNT(*) AS nb FROM (\n",
    "    SELECT velib.*, sample.idr AS insample \n",
    "    FROM velib OUTER JOIN sample\n",
    "    ON velib.idr == sample.idr\n",
    ")"
   ]
  },
  {
   "cell_type": "markdown",
   "metadata": {},
   "source": [
    "We fix it:"
   ]
  },
  {
   "cell_type": "code",
   "execution_count": null,
   "metadata": {
    "collapsed": false
   },
   "outputs": [
    {
     "data": {
      "text/html": [
       "<div>\n",
       "<table border=\"1\" class=\"dataframe\">\n",
       "  <thead>\n",
       "    <tr style=\"text-align: right;\">\n",
       "      <th></th>\n",
       "      <th>insample</th>\n",
       "      <th>nb</th>\n",
       "    </tr>\n",
       "  </thead>\n",
       "  <tbody>\n",
       "    <tr>\n",
       "      <th>0</th>\n",
       "      <td>0</td>\n",
       "      <td>9372</td>\n",
       "    </tr>\n",
       "    <tr>\n",
       "      <th>1</th>\n",
       "      <td>1</td>\n",
       "      <td>89</td>\n",
       "    </tr>\n",
       "  </tbody>\n",
       "</table>\n",
       "</div>"
      ],
      "text/plain": [
       "   insample    nb\n",
       "0         0  9372\n",
       "1         1    89"
      ]
     },
     "execution_count": null,
     "metadata": {},
     "output_type": "execute_result"
    }
   ],
   "source": [
    "%%SQL\n",
    "\n",
    "SELECT insample, COUNT(*) AS nb FROM (\n",
    "    SELECT velib.idr, sample.idr is not null insample\n",
    "    FROM velib LEFT OUTER JOIN sample\n",
    "    ON velib.idr == sample.idr\n",
    ") GROUP BY insample"
   ]
  },
  {
   "cell_type": "markdown",
   "metadata": {},
   "source": [
    "Autocompletion also works when the prefix is ``DB.CC.``:"
   ]
  },
  {
   "cell_type": "code",
   "execution_count": null,
   "metadata": {
    "collapsed": false
   },
   "outputs": [
    {
     "data": {
      "text/html": [
       "<div>\n",
       "<table border=\"1\" class=\"dataframe\">\n",
       "  <thead>\n",
       "    <tr style=\"text-align: right;\">\n",
       "      <th></th>\n",
       "      <th>available_bike_stands</th>\n",
       "      <th>COUNT(*)</th>\n",
       "    </tr>\n",
       "  </thead>\n",
       "  <tbody>\n",
       "    <tr>\n",
       "      <th>0</th>\n",
       "      <td>4</td>\n",
       "      <td>60</td>\n",
       "    </tr>\n",
       "    <tr>\n",
       "      <th>1</th>\n",
       "      <td>5</td>\n",
       "      <td>7</td>\n",
       "    </tr>\n",
       "    <tr>\n",
       "      <th>2</th>\n",
       "      <td>6</td>\n",
       "      <td>7</td>\n",
       "    </tr>\n",
       "    <tr>\n",
       "      <th>3</th>\n",
       "      <td>7</td>\n",
       "      <td>1</td>\n",
       "    </tr>\n",
       "    <tr>\n",
       "      <th>4</th>\n",
       "      <td>8</td>\n",
       "      <td>1</td>\n",
       "    </tr>\n",
       "    <tr>\n",
       "      <th>5</th>\n",
       "      <td>9</td>\n",
       "      <td>4</td>\n",
       "    </tr>\n",
       "    <tr>\n",
       "      <th>6</th>\n",
       "      <td>10</td>\n",
       "      <td>37</td>\n",
       "    </tr>\n",
       "    <tr>\n",
       "      <th>7</th>\n",
       "      <td>11</td>\n",
       "      <td>62</td>\n",
       "    </tr>\n",
       "    <tr>\n",
       "      <th>8</th>\n",
       "      <td>12</td>\n",
       "      <td>53</td>\n",
       "    </tr>\n",
       "    <tr>\n",
       "      <th>9</th>\n",
       "      <td>13</td>\n",
       "      <td>27</td>\n",
       "    </tr>\n",
       "  </tbody>\n",
       "</table>\n",
       "</div>"
      ],
      "text/plain": [
       "   available_bike_stands  COUNT(*)\n",
       "0                      4        60\n",
       "1                      5         7\n",
       "2                      6         7\n",
       "3                      7         1\n",
       "4                      8         1\n",
       "5                      9         4\n",
       "6                     10        37\n",
       "7                     11        62\n",
       "8                     12        53\n",
       "9                     13        27"
      ]
     },
     "execution_count": null,
     "metadata": {},
     "output_type": "execute_result"
    }
   ],
   "source": [
    "%%SQL --df=dfo\n",
    "SELECT DB.CC.velib.available_bike_stands, COUNT(*) \n",
    "FROM DB.CC.velib \n",
    "GROUP BY DB.CC.velib.available_bike_stands"
   ]
  },
  {
   "cell_type": "code",
   "execution_count": null,
   "metadata": {
    "collapsed": false
   },
   "outputs": [
    {
     "data": {
      "text/plain": [
       "(64, 2)"
      ]
     },
     "execution_count": null,
     "metadata": {},
     "output_type": "execute_result"
    }
   ],
   "source": [
    "dfo.shape"
   ]
  },
  {
   "cell_type": "markdown",
   "metadata": {},
   "source": [
    "The autocompletion looks like:"
   ]
  },
  {
   "cell_type": "code",
   "execution_count": null,
   "metadata": {
    "collapsed": false
   },
   "outputs": [
    {
     "data": {
      "image/png": "[encoded data removed]",
      "text/plain": [
       "<IPython.core.display.Image object>"
      ]
     },
     "execution_count": null,
     "metadata": {},
     "output_type": "execute_result"
    }
   ],
   "source": [
    "from pyquickhelper.helpgen import NbImage\n",
    "NbImage(\"dbcc.png\")"
   ]
  },
  {
   "cell_type": "markdown",
   "metadata": {},
   "source": [
    "We finally draw a graph:"
   ]
  },
  {
   "cell_type": "code",
   "execution_count": null,
   "metadata": {
    "collapsed": false
   },
   "outputs": [
    {
     "data": {
      "text/plain": [
       "<matplotlib.axes._subplots.AxesSubplot at 0xa6c4898>"
      ]
     },
     "execution_count": null,
     "metadata": {},
     "output_type": "execute_result"
    },
    {
     "data": {
      "image/png": "[encoded data removed]",
      "text/plain": [
       "<matplotlib.figure.Figure at 0xa6f1390>"
      ]
     },
     "metadata": {},
     "output_type": "display_data"
    }
   ],
   "source": [
    "dfo.plot(x=\"available_bike_stands\", y=\"COUNT(*)\", kind=\"bar\", figsize=(16,4))"
   ]
  },
  {
   "cell_type": "markdown",
   "metadata": {},
   "source": [
    "And we finally close the connection:"
   ]
  },
  {
   "cell_type": "code",
   "execution_count": null,
   "metadata": {
    "collapsed": false
   },
   "outputs": [],
   "source": [
    "%SQL_close"
   ]
  },
  {
   "cell_type": "markdown",
   "metadata": {},
   "source": [
    "**END**"
   ]
  },
  {
   "cell_type": "code",
   "execution_count": null,
   "metadata": {
    "collapsed": false
   },
   "outputs": [],
   "source": []
  }
 ],
 "metadata": {
  "kernelspec": {
   "display_name": "Python 3",
   "language": "python",
   "name": "python3"
  },
  "language_info": {
   "codemirror_mode": {
    "name": "ipython",
    "version": 3
   },
   "file_extension": ".py",
   "mimetype": "text/x-python",
   "name": "python",
   "nbconvert_exporter": "python",
   "pygments_lexer": "ipython3",
   "version": "3.5.2"
  }
 },
 "nbformat": 4,
 "nbformat_minor": 0
}
